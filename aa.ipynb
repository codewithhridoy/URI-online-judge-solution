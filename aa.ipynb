{
 "cells": [
  {
   "cell_type": "markdown",
   "metadata": {},
   "source": [
    "                URI ONLINE JUDGE SOLUTION - BEGINNER : Page-3 & 4"
   ]
  },
  {
   "cell_type": "code",
   "execution_count": null,
   "metadata": {},
   "outputs": [],
   "source": [
    "'''\n",
    "\n",
    "Hridoy Ahmed\n",
    "Daffodil International University\n",
    "Dept. of Computer Science & Engineering\n",
    "Email: hridoy15-7981@diu.edu.bd\n",
    "Facebook Profile: https://web.facebook.com/HridoyAhmedCSE\n",
    "\n",
    "'''"
   ]
  },
  {
   "cell_type": "code",
   "execution_count": 4,
   "metadata": {},
   "outputs": [],
   "source": [
    "# Probelm no: 1075"
   ]
  },
  {
   "cell_type": "code",
   "execution_count": 6,
   "metadata": {},
   "outputs": [
    {
     "name": "stdout",
     "output_type": "stream",
     "text": [
      "13\n",
      "2\n",
      "15\n",
      "28\n",
      "41\n",
      "54\n",
      "67\n",
      "80\n",
      "93\n",
      "106\n",
      "119\n",
      "132\n",
      "145\n",
      "158\n",
      "171\n",
      "184\n",
      "197\n",
      "210\n",
      "223\n",
      "236\n",
      "249\n",
      "262\n",
      "275\n",
      "288\n",
      "301\n",
      "314\n",
      "327\n",
      "340\n",
      "353\n",
      "366\n",
      "379\n",
      "392\n",
      "405\n",
      "418\n",
      "431\n",
      "444\n",
      "457\n",
      "470\n",
      "483\n",
      "496\n",
      "509\n",
      "522\n",
      "535\n",
      "548\n",
      "561\n",
      "574\n",
      "587\n",
      "600\n",
      "613\n",
      "626\n",
      "639\n",
      "652\n",
      "665\n",
      "678\n",
      "691\n",
      "704\n",
      "717\n",
      "730\n",
      "743\n",
      "756\n",
      "769\n",
      "782\n",
      "795\n",
      "808\n",
      "821\n",
      "834\n",
      "847\n",
      "860\n",
      "873\n",
      "886\n",
      "899\n",
      "912\n",
      "925\n",
      "938\n",
      "951\n",
      "964\n",
      "977\n",
      "990\n",
      "1003\n",
      "1016\n",
      "1029\n",
      "1042\n",
      "1055\n",
      "1068\n",
      "1081\n",
      "1094\n",
      "1107\n",
      "1120\n",
      "1133\n",
      "1146\n",
      "1159\n",
      "1172\n",
      "1185\n",
      "1198\n",
      "1211\n",
      "1224\n",
      "1237\n",
      "1250\n",
      "1263\n",
      "1276\n",
      "1289\n",
      "1302\n",
      "1315\n",
      "1328\n",
      "1341\n",
      "1354\n",
      "1367\n",
      "1380\n",
      "1393\n",
      "1406\n",
      "1419\n",
      "1432\n",
      "1445\n",
      "1458\n",
      "1471\n",
      "1484\n",
      "1497\n",
      "1510\n",
      "1523\n",
      "1536\n",
      "1549\n",
      "1562\n",
      "1575\n",
      "1588\n",
      "1601\n",
      "1614\n",
      "1627\n",
      "1640\n",
      "1653\n",
      "1666\n",
      "1679\n",
      "1692\n",
      "1705\n",
      "1718\n",
      "1731\n",
      "1744\n",
      "1757\n",
      "1770\n",
      "1783\n",
      "1796\n",
      "1809\n",
      "1822\n",
      "1835\n",
      "1848\n",
      "1861\n",
      "1874\n",
      "1887\n",
      "1900\n",
      "1913\n",
      "1926\n",
      "1939\n",
      "1952\n",
      "1965\n",
      "1978\n",
      "1991\n",
      "2004\n",
      "2017\n",
      "2030\n",
      "2043\n",
      "2056\n",
      "2069\n",
      "2082\n",
      "2095\n",
      "2108\n",
      "2121\n",
      "2134\n",
      "2147\n",
      "2160\n",
      "2173\n",
      "2186\n",
      "2199\n",
      "2212\n",
      "2225\n",
      "2238\n",
      "2251\n",
      "2264\n",
      "2277\n",
      "2290\n",
      "2303\n",
      "2316\n",
      "2329\n",
      "2342\n",
      "2355\n",
      "2368\n",
      "2381\n",
      "2394\n",
      "2407\n",
      "2420\n",
      "2433\n",
      "2446\n",
      "2459\n",
      "2472\n",
      "2485\n",
      "2498\n",
      "2511\n",
      "2524\n",
      "2537\n",
      "2550\n",
      "2563\n",
      "2576\n",
      "2589\n",
      "2602\n",
      "2615\n",
      "2628\n",
      "2641\n",
      "2654\n",
      "2667\n",
      "2680\n",
      "2693\n",
      "2706\n",
      "2719\n",
      "2732\n",
      "2745\n",
      "2758\n",
      "2771\n",
      "2784\n",
      "2797\n",
      "2810\n",
      "2823\n",
      "2836\n",
      "2849\n",
      "2862\n",
      "2875\n",
      "2888\n",
      "2901\n",
      "2914\n",
      "2927\n",
      "2940\n",
      "2953\n",
      "2966\n",
      "2979\n",
      "2992\n",
      "3005\n",
      "3018\n",
      "3031\n",
      "3044\n",
      "3057\n",
      "3070\n",
      "3083\n",
      "3096\n",
      "3109\n",
      "3122\n",
      "3135\n",
      "3148\n",
      "3161\n",
      "3174\n",
      "3187\n",
      "3200\n",
      "3213\n",
      "3226\n",
      "3239\n",
      "3252\n",
      "3265\n",
      "3278\n",
      "3291\n",
      "3304\n",
      "3317\n",
      "3330\n",
      "3343\n",
      "3356\n",
      "3369\n",
      "3382\n",
      "3395\n",
      "3408\n",
      "3421\n",
      "3434\n",
      "3447\n",
      "3460\n",
      "3473\n",
      "3486\n",
      "3499\n",
      "3512\n",
      "3525\n",
      "3538\n",
      "3551\n",
      "3564\n",
      "3577\n",
      "3590\n",
      "3603\n",
      "3616\n",
      "3629\n",
      "3642\n",
      "3655\n",
      "3668\n",
      "3681\n",
      "3694\n",
      "3707\n",
      "3720\n",
      "3733\n",
      "3746\n",
      "3759\n",
      "3772\n",
      "3785\n",
      "3798\n",
      "3811\n",
      "3824\n",
      "3837\n",
      "3850\n",
      "3863\n",
      "3876\n",
      "3889\n",
      "3902\n",
      "3915\n",
      "3928\n",
      "3941\n",
      "3954\n",
      "3967\n",
      "3980\n",
      "3993\n",
      "4006\n",
      "4019\n",
      "4032\n",
      "4045\n",
      "4058\n",
      "4071\n",
      "4084\n",
      "4097\n",
      "4110\n",
      "4123\n",
      "4136\n",
      "4149\n",
      "4162\n",
      "4175\n",
      "4188\n",
      "4201\n",
      "4214\n",
      "4227\n",
      "4240\n",
      "4253\n",
      "4266\n",
      "4279\n",
      "4292\n",
      "4305\n",
      "4318\n",
      "4331\n",
      "4344\n",
      "4357\n",
      "4370\n",
      "4383\n",
      "4396\n",
      "4409\n",
      "4422\n",
      "4435\n",
      "4448\n",
      "4461\n",
      "4474\n",
      "4487\n",
      "4500\n",
      "4513\n",
      "4526\n",
      "4539\n",
      "4552\n",
      "4565\n",
      "4578\n",
      "4591\n",
      "4604\n",
      "4617\n",
      "4630\n",
      "4643\n",
      "4656\n",
      "4669\n",
      "4682\n",
      "4695\n",
      "4708\n",
      "4721\n",
      "4734\n",
      "4747\n",
      "4760\n",
      "4773\n",
      "4786\n",
      "4799\n",
      "4812\n",
      "4825\n",
      "4838\n",
      "4851\n",
      "4864\n",
      "4877\n",
      "4890\n",
      "4903\n",
      "4916\n",
      "4929\n",
      "4942\n",
      "4955\n",
      "4968\n",
      "4981\n",
      "4994\n",
      "5007\n",
      "5020\n",
      "5033\n",
      "5046\n",
      "5059\n",
      "5072\n",
      "5085\n",
      "5098\n",
      "5111\n",
      "5124\n",
      "5137\n",
      "5150\n",
      "5163\n",
      "5176\n",
      "5189\n",
      "5202\n",
      "5215\n",
      "5228\n",
      "5241\n",
      "5254\n",
      "5267\n",
      "5280\n",
      "5293\n",
      "5306\n",
      "5319\n",
      "5332\n",
      "5345\n",
      "5358\n",
      "5371\n",
      "5384\n",
      "5397\n",
      "5410\n",
      "5423\n",
      "5436\n",
      "5449\n",
      "5462\n",
      "5475\n",
      "5488\n",
      "5501\n",
      "5514\n",
      "5527\n",
      "5540\n",
      "5553\n",
      "5566\n",
      "5579\n",
      "5592\n",
      "5605\n",
      "5618\n",
      "5631\n",
      "5644\n",
      "5657\n",
      "5670\n",
      "5683\n",
      "5696\n",
      "5709\n",
      "5722\n",
      "5735\n",
      "5748\n",
      "5761\n",
      "5774\n",
      "5787\n",
      "5800\n",
      "5813\n",
      "5826\n",
      "5839\n",
      "5852\n",
      "5865\n",
      "5878\n",
      "5891\n",
      "5904\n",
      "5917\n",
      "5930\n",
      "5943\n",
      "5956\n",
      "5969\n",
      "5982\n",
      "5995\n",
      "6008\n",
      "6021\n",
      "6034\n",
      "6047\n",
      "6060\n",
      "6073\n",
      "6086\n",
      "6099\n",
      "6112\n",
      "6125\n",
      "6138\n",
      "6151\n",
      "6164\n",
      "6177\n",
      "6190\n",
      "6203\n",
      "6216\n",
      "6229\n",
      "6242\n",
      "6255\n",
      "6268\n",
      "6281\n",
      "6294\n",
      "6307\n",
      "6320\n",
      "6333\n",
      "6346\n",
      "6359\n",
      "6372\n",
      "6385\n",
      "6398\n",
      "6411\n",
      "6424\n",
      "6437\n",
      "6450\n",
      "6463\n",
      "6476\n",
      "6489\n",
      "6502\n",
      "6515\n",
      "6528\n",
      "6541\n",
      "6554\n",
      "6567\n",
      "6580\n",
      "6593\n",
      "6606\n",
      "6619\n",
      "6632\n",
      "6645\n",
      "6658\n",
      "6671\n",
      "6684\n",
      "6697\n",
      "6710\n",
      "6723\n",
      "6736\n",
      "6749\n",
      "6762\n",
      "6775\n",
      "6788\n",
      "6801\n",
      "6814\n",
      "6827\n",
      "6840\n",
      "6853\n",
      "6866\n",
      "6879\n",
      "6892\n",
      "6905\n",
      "6918\n",
      "6931\n",
      "6944\n",
      "6957\n",
      "6970\n",
      "6983\n",
      "6996\n",
      "7009\n",
      "7022\n",
      "7035\n",
      "7048\n",
      "7061\n",
      "7074\n",
      "7087\n",
      "7100\n",
      "7113\n",
      "7126\n",
      "7139\n",
      "7152\n",
      "7165\n",
      "7178\n",
      "7191\n",
      "7204\n",
      "7217\n",
      "7230\n",
      "7243\n",
      "7256\n",
      "7269\n",
      "7282\n",
      "7295\n",
      "7308\n",
      "7321\n",
      "7334\n",
      "7347\n",
      "7360\n",
      "7373\n",
      "7386\n",
      "7399\n",
      "7412\n",
      "7425\n",
      "7438\n",
      "7451\n",
      "7464\n",
      "7477\n",
      "7490\n",
      "7503\n",
      "7516\n",
      "7529\n",
      "7542\n",
      "7555\n",
      "7568\n",
      "7581\n",
      "7594\n",
      "7607\n",
      "7620\n",
      "7633\n",
      "7646\n",
      "7659\n",
      "7672\n",
      "7685\n",
      "7698\n",
      "7711\n",
      "7724\n",
      "7737\n",
      "7750\n",
      "7763\n",
      "7776\n",
      "7789\n",
      "7802\n",
      "7815\n",
      "7828\n",
      "7841\n",
      "7854\n",
      "7867\n",
      "7880\n",
      "7893\n",
      "7906\n",
      "7919\n",
      "7932\n",
      "7945\n",
      "7958\n",
      "7971\n",
      "7984\n",
      "7997\n",
      "8010\n",
      "8023\n",
      "8036\n",
      "8049\n",
      "8062\n",
      "8075\n",
      "8088\n",
      "8101\n",
      "8114\n",
      "8127\n",
      "8140\n",
      "8153\n",
      "8166\n",
      "8179\n",
      "8192\n",
      "8205\n",
      "8218\n",
      "8231\n",
      "8244\n",
      "8257\n",
      "8270\n",
      "8283\n",
      "8296\n",
      "8309\n",
      "8322\n",
      "8335\n",
      "8348\n",
      "8361\n",
      "8374\n",
      "8387\n",
      "8400\n",
      "8413\n",
      "8426\n",
      "8439\n",
      "8452\n",
      "8465\n",
      "8478\n",
      "8491\n",
      "8504\n",
      "8517\n",
      "8530\n",
      "8543\n",
      "8556\n",
      "8569\n",
      "8582\n",
      "8595\n",
      "8608\n",
      "8621\n",
      "8634\n",
      "8647\n",
      "8660\n",
      "8673\n",
      "8686\n",
      "8699\n",
      "8712\n",
      "8725\n",
      "8738\n",
      "8751\n",
      "8764\n",
      "8777\n",
      "8790\n",
      "8803\n",
      "8816\n",
      "8829\n",
      "8842\n",
      "8855\n",
      "8868\n",
      "8881\n",
      "8894\n",
      "8907\n",
      "8920\n",
      "8933\n",
      "8946\n",
      "8959\n",
      "8972\n",
      "8985\n",
      "8998\n",
      "9011\n",
      "9024\n",
      "9037\n",
      "9050\n",
      "9063\n",
      "9076\n",
      "9089\n",
      "9102\n",
      "9115\n",
      "9128\n",
      "9141\n",
      "9154\n",
      "9167\n",
      "9180\n",
      "9193\n",
      "9206\n",
      "9219\n",
      "9232\n",
      "9245\n",
      "9258\n",
      "9271\n",
      "9284\n",
      "9297\n",
      "9310\n",
      "9323\n",
      "9336\n",
      "9349\n",
      "9362\n",
      "9375\n",
      "9388\n",
      "9401\n",
      "9414\n",
      "9427\n",
      "9440\n",
      "9453\n",
      "9466\n",
      "9479\n",
      "9492\n",
      "9505\n",
      "9518\n",
      "9531\n",
      "9544\n",
      "9557\n",
      "9570\n",
      "9583\n",
      "9596\n",
      "9609\n",
      "9622\n",
      "9635\n",
      "9648\n",
      "9661\n",
      "9674\n",
      "9687\n",
      "9700\n",
      "9713\n",
      "9726\n",
      "9739\n",
      "9752\n",
      "9765\n",
      "9778\n",
      "9791\n",
      "9804\n",
      "9817\n",
      "9830\n",
      "9843\n",
      "9856\n",
      "9869\n",
      "9882\n",
      "9895\n",
      "9908\n",
      "9921\n",
      "9934\n",
      "9947\n",
      "9960\n",
      "9973\n",
      "9986\n",
      "9999\n"
     ]
    }
   ],
   "source": [
    "N = int(input())\n",
    "\n",
    "for item in range(1, 10001):\n",
    "    if (item%N == 2):\n",
    "        print(item)\n"
   ]
  },
  {
   "cell_type": "code",
   "execution_count": 7,
   "metadata": {},
   "outputs": [],
   "source": [
    "# Probelm no: 1078"
   ]
  },
  {
   "cell_type": "code",
   "execution_count": 12,
   "metadata": {},
   "outputs": [
    {
     "name": "stdout",
     "output_type": "stream",
     "text": [
      "140\n",
      "1 x 140 = 140\n",
      "2 x 140 = 280\n",
      "3 x 140 = 420\n",
      "4 x 140 = 560\n",
      "5 x 140 = 700\n",
      "6 x 140 = 840\n",
      "7 x 140 = 980\n",
      "8 x 140 = 1120\n",
      "9 x 140 = 1260\n",
      "10 x 140 = 1400\n"
     ]
    }
   ],
   "source": [
    "N = int(input())\n",
    "\n",
    "for item in range(1, 11):\n",
    "    print('{} x {} = {}'.format(item, N, item*N))\n",
    "        "
   ]
  },
  {
   "cell_type": "code",
   "execution_count": 13,
   "metadata": {},
   "outputs": [],
   "source": [
    "# Probelm no: 1079"
   ]
  },
  {
   "cell_type": "code",
   "execution_count": 15,
   "metadata": {},
   "outputs": [
    {
     "name": "stdout",
     "output_type": "stream",
     "text": [
      "3\n",
      "6.5 4.3 6.2\n",
      "5.7\n",
      "5.1 4.2 8.1\n",
      "6.3\n",
      "8.0 9.0 10.0\n",
      "9.3\n"
     ]
    }
   ],
   "source": [
    "N = int(input())\n",
    "\n",
    "for item in range(N):\n",
    "    X1, X2, X3 = list(map(float,input().split()))\n",
    "    \n",
    "    X1 *= 2\n",
    "    X2 *= 3\n",
    "    X3 *= 5\n",
    "    \n",
    "    avg = (X1 + X2 + X3) / (2 + 3 + 5)\n",
    "    \n",
    "    print('%.1f'%avg)"
   ]
  },
  {
   "cell_type": "code",
   "execution_count": 16,
   "metadata": {},
   "outputs": [],
   "source": [
    "# Probelm no: 1080"
   ]
  },
  {
   "cell_type": "code",
   "execution_count": 35,
   "metadata": {},
   "outputs": [
    {
     "name": "stdout",
     "output_type": "stream",
     "text": [
      "5\n",
      "1\n",
      "2\n",
      "3\n",
      "4\n",
      "5\n",
      "1\n"
     ]
    }
   ],
   "source": [
    "item_list = []\n",
    "for item in range(100):\n",
    "    N = int(input())\n",
    "    item_list.append(N)\n",
    "max_item = max(item_list)\n",
    "print(max_item)\n",
    "print(item_list.index(max_item)+1)"
   ]
  },
  {
   "cell_type": "code",
   "execution_count": 36,
   "metadata": {},
   "outputs": [],
   "source": [
    "# Probelm no: 1094"
   ]
  },
  {
   "cell_type": "code",
   "execution_count": 60,
   "metadata": {},
   "outputs": [
    {
     "name": "stdout",
     "output_type": "stream",
     "text": [
      "10\n",
      "10 C\n",
      "6 R\n",
      "15 S\n",
      "5 C\n",
      "14 R\n",
      "9 C\n",
      "6 R\n",
      "8 S\n",
      "5 C\n",
      "14 R\n",
      "Total: 92 cobaias\n",
      "Total de coelhos: 29\n",
      "Total de ratos: 40\n",
      "Total de sapos: 23\n",
      "Percentual de coelhos: 31.52 %\n",
      "Percentual de ratos: 43.48 %\n",
      "Percentual de sapos: 25.00 %\n"
     ]
    }
   ],
   "source": [
    "N = int(input())\n",
    "total = []\n",
    "c = []\n",
    "r = []\n",
    "s = []\n",
    "for item in range(N):\n",
    "    x = input().split()\n",
    "    a = int(x[0])\n",
    "    b = x[1]\n",
    "    \n",
    "    total.append(a)\n",
    "    \n",
    "    if(b == 'C'):\n",
    "        c.append(a)\n",
    "        \n",
    "    elif(b == 'R'):\n",
    "        r.append(a)\n",
    "        \n",
    "    elif(b == 'S'):\n",
    "        s.append(a)   \n",
    "\n",
    "poc = (sum(c)*100) / sum(total)\n",
    "por = (sum(r)*100) / sum(total)\n",
    "pos = (sum(s)*100) / sum(total)\n",
    "\n",
    "print('Total: {} cobaias'.format(sum(total)))\n",
    "print('Total de coelhos: {}'.format(sum(c)))\n",
    "print('Total de ratos: {}'.format(sum(r)))\n",
    "print('Total de sapos: {}'.format(sum(s)))\n",
    "print('Percentual de coelhos: %.2f %%'%poc)\n",
    "print('Percentual de ratos: %.2f %%'%por)\n",
    "print('Percentual de sapos: %.2f %%'%pos)\n"
   ]
  },
  {
   "cell_type": "code",
   "execution_count": 93,
   "metadata": {},
   "outputs": [],
   "source": [
    "# Probelm no: 1095"
   ]
  },
  {
   "cell_type": "code",
   "execution_count": 105,
   "metadata": {},
   "outputs": [
    {
     "name": "stdout",
     "output_type": "stream",
     "text": [
      "I=1 J=60\n",
      "I=4 J=55\n",
      "I=7 J=50\n",
      "I=10 J=45\n",
      "I=13 J=40\n",
      "I=16 J=35\n",
      "I=19 J=30\n",
      "I=22 J=25\n",
      "I=25 J=20\n",
      "I=28 J=15\n",
      "I=31 J=10\n",
      "I=34 J=5\n",
      "I=37 J=0\n"
     ]
    }
   ],
   "source": [
    "#-2+3=1, 65-5=60\n",
    "# 1+3=4, 60-5=60\n",
    "j,i=65,-2\n",
    "for I in range (1,14):\n",
    "    J = j - 5\n",
    "    I = i + 3\n",
    "    print('I=%i J=%i' %(I, J))\n",
    "    j = J\n",
    "    i = I"
   ]
  },
  {
   "cell_type": "code",
   "execution_count": 95,
   "metadata": {},
   "outputs": [],
   "source": [
    "# Probelm no: 1096"
   ]
  },
  {
   "cell_type": "code",
   "execution_count": 96,
   "metadata": {},
   "outputs": [
    {
     "name": "stdout",
     "output_type": "stream",
     "text": [
      "I=1 J=7\n",
      "I=1 J=6\n",
      "I=1 J=5\n",
      "I=3 J=7\n",
      "I=3 J=6\n",
      "I=3 J=5\n",
      "I=5 J=7\n",
      "I=5 J=6\n",
      "I=5 J=5\n",
      "I=7 J=7\n",
      "I=7 J=6\n",
      "I=7 J=5\n",
      "I=9 J=7\n",
      "I=9 J=6\n",
      "I=9 J=5\n"
     ]
    }
   ],
   "source": [
    "for i in range(1,10,2):\n",
    "    for j in range(7,4,-1):\n",
    "        print(\"I={} J={}\".format(i,j))"
   ]
  },
  {
   "cell_type": "code",
   "execution_count": 97,
   "metadata": {},
   "outputs": [],
   "source": [
    "# Probelm no: 1097"
   ]
  },
  {
   "cell_type": "code",
   "execution_count": 98,
   "metadata": {},
   "outputs": [
    {
     "name": "stdout",
     "output_type": "stream",
     "text": [
      "I=1 J=7\n",
      "I=1 J=6\n",
      "I=1 J=5\n",
      "I=3 J=9\n",
      "I=3 J=8\n",
      "I=3 J=7\n",
      "I=5 J=11\n",
      "I=5 J=10\n",
      "I=5 J=9\n",
      "I=7 J=13\n",
      "I=7 J=12\n",
      "I=7 J=11\n",
      "I=9 J=15\n",
      "I=9 J=14\n",
      "I=9 J=13\n"
     ]
    }
   ],
   "source": [
    "for i in range(1,10,2):\n",
    "    for j in range(6+i,3+i,-1):\n",
    "        print(\"I={} J={}\".format(i,j))"
   ]
  },
  {
   "cell_type": "code",
   "execution_count": 108,
   "metadata": {},
   "outputs": [],
   "source": [
    "# Probelm no: 1098"
   ]
  },
  {
   "cell_type": "code",
   "execution_count": 111,
   "metadata": {},
   "outputs": [
    {
     "name": "stdout",
     "output_type": "stream",
     "text": [
      "I=0 J=1\n",
      "I=0 J=2\n",
      "I=0 J=3\n",
      "I=0.2 J=1.2\n",
      "I=0.2 J=2.2\n",
      "I=0.2 J=3.2\n",
      "I=0.4 J=1.4\n",
      "I=0.4 J=2.4\n",
      "I=0.4 J=3.4\n",
      "I=0.6 J=1.6\n",
      "I=0.6 J=2.6\n",
      "I=0.6 J=3.6\n",
      "I=0.8 J=1.8\n",
      "I=0.8 J=2.8\n",
      "I=0.8 J=3.8\n",
      "I=1 J=2\n",
      "I=1 J=3\n",
      "I=1 J=4\n",
      "I=1.2 J=2.2\n",
      "I=1.2 J=3.2\n",
      "I=1.2 J=4.2\n",
      "I=1.4 J=2.4\n",
      "I=1.4 J=3.4\n",
      "I=1.4 J=4.4\n",
      "I=1.6 J=2.6\n",
      "I=1.6 J=3.6\n",
      "I=1.6 J=4.6\n",
      "I=1.8 J=2.8\n",
      "I=1.8 J=3.8\n",
      "I=1.8 J=4.8\n",
      "I=2 J=3\n",
      "I=2 J=4\n",
      "I=2 J=5\n"
     ]
    }
   ],
   "source": [
    "i = 0\n",
    "j = 1\n",
    "value = 0\n",
    "temp = 0\n",
    "temp2 = 0\n",
    "while (i <= 2):\n",
    "    if (temp2 == 0):\n",
    "        print(\"I=%.0f J=%.0f\" % (i, j))\n",
    "    else:\n",
    "        print(\"I=%.1f J=%.1f\" % (i, j))\n",
    "\n",
    "    temp += 1\n",
    "    if (temp == 3):\n",
    "        i += 0.2\n",
    "        value += 0.2\n",
    "        j = value\n",
    "        temp = 0\n",
    "        temp2 += 1\n",
    "\n",
    "    if(temp2 == 5):\n",
    "        temp2 = 0\n",
    "    j += 1"
   ]
  },
  {
   "cell_type": "code",
   "execution_count": 113,
   "metadata": {},
   "outputs": [],
   "source": [
    "# Probelm no: 1099"
   ]
  },
  {
   "cell_type": "code",
   "execution_count": 115,
   "metadata": {},
   "outputs": [
    {
     "name": "stdout",
     "output_type": "stream",
     "text": [
      "7\n",
      "4 5\n",
      "0\n",
      "13 10\n",
      "11\n",
      "6 4\n",
      "5\n",
      "3 3\n",
      "0\n",
      "3 5\n",
      "0\n",
      "3 4\n",
      "0\n",
      "3 8\n",
      "12\n"
     ]
    }
   ],
   "source": [
    "n = int(input())\n",
    "for i in range(n):\n",
    "    a,b = list(map(int, input().split()))\n",
    "    d = 0\n",
    "    if(a==b):\n",
    "        print(0)\n",
    "    else:\n",
    "        temp = 0\n",
    "        if (a > b):\n",
    "            temp = a\n",
    "            a = b\n",
    "            b = temp\n",
    "        while (a < ( b- 1)):\n",
    "            a += 1\n",
    "            if(a % 2 != 0):\n",
    "                d+= a\n",
    "        print(d)"
   ]
  },
  {
   "cell_type": "code",
   "execution_count": 1,
   "metadata": {},
   "outputs": [],
   "source": [
    "# Probelm no: 1101"
   ]
  },
  {
   "cell_type": "code",
   "execution_count": 2,
   "metadata": {},
   "outputs": [
    {
     "name": "stdout",
     "output_type": "stream",
     "text": [
      "5 2\n",
      "2 3 4 5 Sum=14\n",
      "6 3\n",
      "3 4 5 6 Sum=18\n",
      "5 0\n"
     ]
    }
   ],
   "source": [
    "while True:\n",
    "    M, N = list(map(int, input().split()))\n",
    "    if (M <= 0 or N <= 0):\n",
    "        break\n",
    "    \n",
    "    temp = 0\n",
    "    jog = 0\n",
    "    \n",
    "    if(M > N):\n",
    "        temp = M\n",
    "        M = N\n",
    "        N = temp\n",
    "    for item in range(M, N+1):\n",
    "        print(item, end=' ')\n",
    "        jog += item\n",
    "    print('Sum=%i'%jog)"
   ]
  },
  {
   "cell_type": "code",
   "execution_count": 4,
   "metadata": {},
   "outputs": [],
   "source": [
    "# Probelm no: 1113"
   ]
  },
  {
   "cell_type": "code",
   "execution_count": 5,
   "metadata": {},
   "outputs": [
    {
     "name": "stdout",
     "output_type": "stream",
     "text": [
      "5 4\n",
      "Decrescente\n",
      "7 2\n",
      "Decrescente\n",
      "3 8\n",
      "Crescente\n",
      "2 2\n"
     ]
    }
   ],
   "source": [
    "while True:\n",
    "    X, Y  = list(map(int, input().split()))\n",
    "    \n",
    "    if (X == Y):\n",
    "        break\n",
    "    \n",
    "    if (X < Y):\n",
    "        print('Crescente')\n",
    "    else:\n",
    "        print('Decrescente')"
   ]
  },
  {
   "cell_type": "code",
   "execution_count": 6,
   "metadata": {},
   "outputs": [],
   "source": [
    "# Probelm no: 1114"
   ]
  },
  {
   "cell_type": "code",
   "execution_count": 7,
   "metadata": {},
   "outputs": [
    {
     "name": "stdout",
     "output_type": "stream",
     "text": [
      "2200\n",
      "Senha Invalida\n",
      "1020\n",
      "Senha Invalida\n",
      "2022\n",
      "Senha Invalida\n",
      "2002\n",
      "Acesso Permitido\n"
     ]
    }
   ],
   "source": [
    "while True:\n",
    "    password = int(input())\n",
    "    \n",
    "    if(password == 2002):\n",
    "        print('Acesso Permitido')\n",
    "        break\n",
    "    else:\n",
    "        print('Senha Invalida')\n",
    "    "
   ]
  },
  {
   "cell_type": "code",
   "execution_count": 8,
   "metadata": {},
   "outputs": [],
   "source": [
    "# Probelm no: 1115"
   ]
  },
  {
   "cell_type": "code",
   "execution_count": 9,
   "metadata": {},
   "outputs": [
    {
     "name": "stdout",
     "output_type": "stream",
     "text": [
      "2 2\n",
      "primeiro\n",
      "3 -2\n",
      "quarto\n",
      "-8 -1\n",
      "terceiro\n",
      "-7 1\n",
      "segundo\n",
      "0 2\n"
     ]
    }
   ],
   "source": [
    "while True:\n",
    "    X, Y = list(map(int, input().split()))\n",
    "    \n",
    "    if(X == 0 or Y == 0):\n",
    "        break\n",
    "    \n",
    "    elif(X > 0 and Y > 0):\n",
    "        print('primeiro')\n",
    "        \n",
    "    elif(X > 0 and Y < 0):\n",
    "        print('quarto')\n",
    "    \n",
    "    elif(X < 0 and Y < 0):\n",
    "        print('terceiro')\n",
    "        \n",
    "    elif(X < 0 and Y > 0):\n",
    "        print('segundo')"
   ]
  },
  {
   "cell_type": "code",
   "execution_count": 10,
   "metadata": {},
   "outputs": [],
   "source": [
    "# Probelm no: 1116"
   ]
  },
  {
   "cell_type": "code",
   "execution_count": 11,
   "metadata": {},
   "outputs": [
    {
     "name": "stdout",
     "output_type": "stream",
     "text": [
      "3\n",
      "3 -2\n",
      "-1.5\n",
      "-8 0\n",
      "divisao impossivel\n",
      "0 8\n",
      "0.0\n"
     ]
    }
   ],
   "source": [
    "N = int(input())\n",
    "\n",
    "for item in range(N):\n",
    "    X , Y = list(map(int, input().split()))\n",
    "    \n",
    "    if(Y == 0):\n",
    "        print('divisao impossivel')\n",
    "    else:\n",
    "        div = X / Y\n",
    "        print(div)"
   ]
  },
  {
   "cell_type": "code",
   "execution_count": 12,
   "metadata": {},
   "outputs": [],
   "source": [
    "# Probelm no: 1117"
   ]
  },
  {
   "cell_type": "code",
   "execution_count": 40,
   "metadata": {},
   "outputs": [
    {
     "name": "stdout",
     "output_type": "stream",
     "text": [
      "-3.5\n",
      "nota invalida\n",
      "3.5\n",
      "11.0\n",
      "nota invalida\n",
      "10.0\n",
      "media = 6.75\n"
     ]
    }
   ],
   "source": [
    "count = 0\n",
    "temp = 0\n",
    "while True:\n",
    "    x = float(input())\n",
    "    \n",
    "    if(x < 0 or x > 10):\n",
    "        print('nota invalida')\n",
    "        \n",
    "    else:\n",
    "        temp += x\n",
    "        count += 1\n",
    "        if(count==2):\n",
    "            media = temp / 2\n",
    "            print('media = %.2f'%media)\n",
    "            break\n",
    "        "
   ]
  },
  {
   "cell_type": "code",
   "execution_count": 41,
   "metadata": {},
   "outputs": [],
   "source": [
    "# Probelm no: 1118"
   ]
  },
  {
   "cell_type": "code",
   "execution_count": 60,
   "metadata": {},
   "outputs": [
    {
     "name": "stdout",
     "output_type": "stream",
     "text": [
      "-3.5\n",
      "nota invalida\n",
      "3.5\n",
      "11.0\n",
      "nota invalida\n",
      "10.0\n",
      "media = 6.75\n",
      "novo calculo (1-sim 2-nao)\n",
      "4\n",
      "novo calculo (1-sim 2-nao)\n",
      "1\n",
      "8.0\n",
      "9.0\n",
      "media = 8.50\n",
      "novo calculo (1-sim 2-nao)\n",
      "2\n"
     ]
    }
   ],
   "source": [
    "while True:\n",
    "    temp = 0\n",
    "    count = 0\n",
    "    while (count < 2):\n",
    "        n = float(input())\n",
    "        if (n >= 0 and n <= 10):\n",
    "            temp += n\n",
    "            count += 1\n",
    "        else:\n",
    "            print(\"nota invalida\")\n",
    "    print(\"media = %.2f\" % (temp / 2))\n",
    "    new = 0\n",
    "    while True:\n",
    "        print(\"novo calculo (1-sim 2-nao)\")\n",
    "        new = int(input())\n",
    "        if (new == 1 or new == 2):\n",
    "            break\n",
    "    if (new == 2):\n",
    "        break"
   ]
  },
  {
   "cell_type": "code",
   "execution_count": 61,
   "metadata": {},
   "outputs": [],
   "source": [
    "# Probelm no: 1131"
   ]
  },
  {
   "cell_type": "code",
   "execution_count": 27,
   "metadata": {},
   "outputs": [
    {
     "name": "stdout",
     "output_type": "stream",
     "text": [
      "3 2\n",
      "Novo grenal (1-sim 2-nao)\n",
      "1\n",
      "2 3\n",
      "Novo grenal (1-sim 2-nao)\n",
      "1\n",
      "3 1\n",
      "Novo grenal (1-sim 2-nao)\n",
      "2\n",
      "3 grenais\n",
      "Inter:2\n",
      "Gremio:1\n",
      "Empates:0\n",
      "Inter venceu mais\n"
     ]
    }
   ],
   "source": [
    "inter = 0\n",
    "gremio = 0\n",
    "draw = 0\n",
    "c = 0\n",
    "d = 0\n",
    "total = 0\n",
    "while True:\n",
    "    a,b = list(map(int,input().split()))\n",
    "    if(a > b):\n",
    "        inter += 1\n",
    "    if(a < b):\n",
    "        gremio += 1\n",
    "    if(a == b):\n",
    "        draw += 1\n",
    "    \n",
    "    c += a \n",
    "    d += b\n",
    "    total += 1\n",
    "    \n",
    "    print(\"Novo grenal (1-sim 2-nao)\")\n",
    "    n = int(input())\n",
    "    if(n == 1):\n",
    "        continue\n",
    "    if(n == 2):\n",
    "        break\n",
    "\n",
    "print(\"{} grenais\".format(total))\n",
    "print(\"Inter:{}\".format(inter))\n",
    "print(\"Gremio:{}\".format(gremio))\n",
    "print(\"Empates:{}\".format(draw))\n",
    "\n",
    "if(inter > gremio):\n",
    "    print(\"Inter venceu mais\")\n",
    "if(inter < gremio):\n",
    "    print(\"Gremio venceu mais\")\n",
    "if(gremio == inter):\n",
    "        print(\"Nao houve vencedor\")"
   ]
  },
  {
   "cell_type": "code",
   "execution_count": 62,
   "metadata": {},
   "outputs": [],
   "source": [
    "# Probelm no: 1132"
   ]
  },
  {
   "cell_type": "code",
   "execution_count": 79,
   "metadata": {},
   "outputs": [
    {
     "name": "stdout",
     "output_type": "stream",
     "text": [
      "100\n",
      "200\n",
      "13954\n"
     ]
    }
   ],
   "source": [
    "X = int(input())\n",
    "Y = int(input())\n",
    "\n",
    "temp = 0\n",
    "s = 0\n",
    "\n",
    "if (X > Y):\n",
    "    temp = X\n",
    "    X = Y\n",
    "    Y = temp\n",
    "\n",
    "for item in range(X, Y+1):\n",
    "    if(item%13 == 0):\n",
    "        del item \n",
    "    else:\n",
    "        s += item\n",
    "print(s)"
   ]
  },
  {
   "cell_type": "code",
   "execution_count": 80,
   "metadata": {},
   "outputs": [],
   "source": [
    "# Probelm no: 1133"
   ]
  },
  {
   "cell_type": "code",
   "execution_count": 46,
   "metadata": {},
   "outputs": [
    {
     "name": "stdout",
     "output_type": "stream",
     "text": [
      "10\n",
      "18\n",
      "12\n",
      "13\n",
      "17\n"
     ]
    }
   ],
   "source": [
    "n1 = int(input())\n",
    "n2 = int(input())\n",
    "temp = n1\n",
    "\n",
    "if(n1 > n2):\n",
    "    n1 = n2\n",
    "    n2 = temp\n",
    "    \n",
    "while(n1 < n2):\n",
    "    n1 += 1\n",
    "    if(n1%5 == 2 or n1%5 == 3 and n1 != n2):\n",
    "        print(n1)"
   ]
  },
  {
   "cell_type": "code",
   "execution_count": 83,
   "metadata": {},
   "outputs": [],
   "source": [
    "# Probelm no: 1134"
   ]
  },
  {
   "cell_type": "code",
   "execution_count": 2,
   "metadata": {},
   "outputs": [
    {
     "name": "stdout",
     "output_type": "stream",
     "text": [
      "1\n",
      "1\n",
      "2\n",
      "4\n",
      "MUITO OBRIGADO\n",
      "Alcool: 2\n",
      "Gasolina: 1\n",
      "Diesel: 0\n"
     ]
    }
   ],
   "source": [
    "count1 = 0\n",
    "count2 = 0\n",
    "count3 = 0\n",
    "while True:\n",
    "    x = int(input())\n",
    "    \n",
    "    if(x==4):\n",
    "        break\n",
    "    elif(x==1):\n",
    "        count1 += 1\n",
    "    elif(x==2):\n",
    "        count2 += 1\n",
    "    elif(x==3):\n",
    "        count3 += 1\n",
    "\n",
    "print('MUITO OBRIGADO')\n",
    "print('Alcool: %i'%count1)\n",
    "print('Gasolina: %i'%count2)\n",
    "print('Diesel: %i'%count3)"
   ]
  },
  {
   "cell_type": "code",
   "execution_count": 3,
   "metadata": {},
   "outputs": [],
   "source": [
    "# Probelm no: 1142"
   ]
  },
  {
   "cell_type": "code",
   "execution_count": 25,
   "metadata": {},
   "outputs": [
    {
     "name": "stdout",
     "output_type": "stream",
     "text": [
      "7\n",
      "1 2 3 PUM\n",
      "5 6 7 PUM\n",
      "9 10 11 PUM\n",
      "13 14 15 PUM\n",
      "17 18 19 PUM\n",
      "21 22 23 PUM\n",
      "25 26 27 PUM\n"
     ]
    }
   ],
   "source": [
    "N = int(input())\n",
    "count = 1\n",
    "for item in range(N):\n",
    "    print(\"%i %i %i PUM\" %(count,count+1,count+2))\n",
    "    count += 4"
   ]
  },
  {
   "cell_type": "code",
   "execution_count": 5,
   "metadata": {},
   "outputs": [],
   "source": [
    "# Probelm no: 1143"
   ]
  },
  {
   "cell_type": "code",
   "execution_count": 11,
   "metadata": {},
   "outputs": [
    {
     "name": "stdout",
     "output_type": "stream",
     "text": [
      "5\n",
      "1 1 1\n",
      "2 4 8\n",
      "3 9 27\n",
      "4 16 64\n",
      "5 25 125\n"
     ]
    }
   ],
   "source": [
    "N = int(input())\n",
    "\n",
    "for item in range(1, N+1):\n",
    "    sq = item * item\n",
    "    cu = item * item * item\n",
    "    print('{} {} {}'.format(item, sq, cu))"
   ]
  },
  {
   "cell_type": "code",
   "execution_count": 23,
   "metadata": {},
   "outputs": [],
   "source": [
    "# Probelm no: 1144"
   ]
  },
  {
   "cell_type": "code",
   "execution_count": 28,
   "metadata": {},
   "outputs": [
    {
     "name": "stdout",
     "output_type": "stream",
     "text": [
      "5\n",
      "1 1 1\n",
      "1 2 2\n",
      "2 4 8\n",
      "2 5 9\n",
      "3 9 27\n",
      "3 10 28\n",
      "4 16 64\n",
      "4 17 65\n",
      "5 25 125\n",
      "5 26 126\n"
     ]
    }
   ],
   "source": [
    "N = int(input())\n",
    "\n",
    "for item in range(1, N+1):\n",
    "    sq = item * item\n",
    "    cu = item * item * item\n",
    "    print('{} {} {}'.format(item, sq, cu))\n",
    "    \n",
    "    sqp = sq + 1\n",
    "    cup = cu + 1\n",
    "    print('{} {} {}'.format(item, sqp, cup))\n",
    "    "
   ]
  },
  {
   "cell_type": "code",
   "execution_count": 29,
   "metadata": {},
   "outputs": [],
   "source": [
    "# Probelm no: 1145"
   ]
  },
  {
   "cell_type": "code",
   "execution_count": 78,
   "metadata": {},
   "outputs": [
    {
     "name": "stdout",
     "output_type": "stream",
     "text": [
      "3 99\n",
      "1 2 3\n",
      "4 5 6\n",
      "7 8 9\n",
      "10 11 12\n",
      "13 14 15\n",
      "16 17 18\n",
      "19 20 21\n",
      "22 23 24\n",
      "25 26 27\n",
      "28 29 30\n",
      "31 32 33\n",
      "34 35 36\n",
      "37 38 39\n",
      "40 41 42\n",
      "43 44 45\n",
      "46 47 48\n",
      "49 50 51\n",
      "52 53 54\n",
      "55 56 57\n",
      "58 59 60\n",
      "61 62 63\n",
      "64 65 66\n",
      "67 68 69\n",
      "70 71 72\n",
      "73 74 75\n",
      "76 77 78\n",
      "79 80 81\n",
      "82 83 84\n",
      "85 86 87\n",
      "88 89 90\n",
      "91 92 93\n",
      "94 95 96\n",
      "97 98 99\n"
     ]
    }
   ],
   "source": [
    "X, Y = list(map(int, input().split()))\n",
    "\n",
    "count = 1\n",
    "\n",
    "for item in range(1, (int(Y/X)+1)):\n",
    "    my_string = ''\n",
    "    \n",
    "    for item2 in range(X):\n",
    "        my_string += str(count) + ' '\n",
    "        count += 1\n",
    "    print(my_string[:-1])"
   ]
  },
  {
   "cell_type": "code",
   "execution_count": 76,
   "metadata": {},
   "outputs": [],
   "source": [
    "# Probelm no: 1146"
   ]
  },
  {
   "cell_type": "code",
   "execution_count": 72,
   "metadata": {},
   "outputs": [
    {
     "name": "stdout",
     "output_type": "stream",
     "text": [
      "5\n",
      "1 2 3 4 5\n",
      "10\n",
      "1 2 3 4 5 6 7 8 9 10\n",
      "3\n",
      "1 2 3\n",
      "0\n"
     ]
    }
   ],
   "source": [
    "while True:\n",
    "    X = int(input())\n",
    "    my_string = ''\n",
    "    if (X == 0):\n",
    "        break\n",
    "    for item in range(1, X+1):\n",
    "        my_string += str(item) + ' '\n",
    "    print(my_string[:-1])\n",
    "    \n",
    "#s = 'hridoy'\n",
    "#print(s[:-1])\n",
    "#output = hrido"
   ]
  },
  {
   "cell_type": "code",
   "execution_count": 52,
   "metadata": {},
   "outputs": [],
   "source": [
    "# Probelm no: 1149"
   ]
  },
  {
   "cell_type": "code",
   "execution_count": 6,
   "metadata": {},
   "outputs": [
    {
     "name": "stdout",
     "output_type": "stream",
     "text": [
      "3 -1 0 -2 2\n",
      "7\n"
     ]
    }
   ],
   "source": [
    "list_item = list(map(int, input().split()))\n",
    "A = 'Hridoy'\n",
    "N = 0\n",
    "add = 0\n",
    "for item in list_item:\n",
    "    if (A == 'Hridoy'):\n",
    "        A = item\n",
    "    else:\n",
    "        if (item > 0):\n",
    "            N = item\n",
    "            break\n",
    "\n",
    "for item in range(N):\n",
    "    add += A\n",
    "    A += 1\n",
    "\n",
    "print(\"%i\" % add)\n",
    "\n",
    "#A=3\n",
    "#N=2\n",
    "#add=0+3\n",
    "#A=4\n",
    "#add=3+4=7"
   ]
  },
  {
   "cell_type": "code",
   "execution_count": 82,
   "metadata": {},
   "outputs": [],
   "source": [
    "# Probelm no: 1150"
   ]
  },
  {
   "cell_type": "code",
   "execution_count": 96,
   "metadata": {},
   "outputs": [
    {
     "name": "stdout",
     "output_type": "stream",
     "text": [
      "3\n",
      "1\n",
      "20\n",
      "5\n"
     ]
    }
   ],
   "source": [
    "X = int(input())\n",
    "Z = 0\n",
    "while True:\n",
    "    Z = int(input())\n",
    "    if(Z > X):\n",
    "        break\n",
    "add = X\n",
    "count = 1\n",
    "while(add < Z):\n",
    "    add += X + count\n",
    "    count += 1\n",
    "\n",
    "#add,3<20,count=2\n",
    "#add,3+3+1=7<20,count=3\n",
    "#add,7+3+2=12<20,count=4\n",
    "#add,12+3+3=18<20,count=5\n",
    "#add,18+3+4=25<20\n",
    "\n",
    "print(count)"
   ]
  },
  {
   "cell_type": "code",
   "execution_count": 97,
   "metadata": {},
   "outputs": [],
   "source": [
    "# Probelm no: 1151"
   ]
  },
  {
   "cell_type": "code",
   "execution_count": 1,
   "metadata": {},
   "outputs": [
    {
     "name": "stdout",
     "output_type": "stream",
     "text": [
      "5\n",
      "0 1 1 2 3\n"
     ]
    }
   ],
   "source": [
    "N = int(input())\n",
    "a = 0\n",
    "b = 1\n",
    "print(a, end=\" \")\n",
    "print(b, end=\" \")\n",
    "count = 2\n",
    "while (1):\n",
    "    c = a+b\n",
    "    count += 1\n",
    "    if(count == N):\n",
    "        print(c)\n",
    "        break\n",
    "    else:\n",
    "        print(c, end=\" \")\n",
    "        a = b\n",
    "        b = c"
   ]
  },
  {
   "cell_type": "code",
   "execution_count": 13,
   "metadata": {},
   "outputs": [],
   "source": [
    "# Probelm no: 1158"
   ]
  },
  {
   "cell_type": "code",
   "execution_count": 19,
   "metadata": {},
   "outputs": [
    {
     "name": "stdout",
     "output_type": "stream",
     "text": [
      "1\n",
      "4 3\n",
      "0\n"
     ]
    }
   ],
   "source": [
    "N = int(input())\n",
    "\n",
    "for item in range(N):\n",
    "    X, Y = list(map(int, input().split()))\n",
    "    \n",
    "    list_item = []\n",
    "    while \n",
    "    for item in range(X, ):\n",
    "        if(item%2 != 0):\n",
    "            list_item.append(item)\n",
    "    print(sum(list_item))"
   ]
  },
  {
   "cell_type": "code",
   "execution_count": 14,
   "metadata": {},
   "outputs": [],
   "source": [
    "# Probelm no: 1159"
   ]
  },
  {
   "cell_type": "code",
   "execution_count": 17,
   "metadata": {},
   "outputs": [
    {
     "name": "stdout",
     "output_type": "stream",
     "text": [
      "4\n",
      "40\n",
      "11\n",
      "80\n",
      "0\n"
     ]
    }
   ],
   "source": [
    "while True:\n",
    "    X = int(input())\n",
    "    \n",
    "    if(X == 0):\n",
    "        break\n",
    "\n",
    "    list_item = []\n",
    "    for item in range(X, X+10):\n",
    "        if(item%2 == 0):\n",
    "            list_item.append(item)\n",
    "    print(sum(list_item))"
   ]
  },
  {
   "cell_type": "code",
   "execution_count": 1,
   "metadata": {},
   "outputs": [],
   "source": [
    "# Probelm no: 1164"
   ]
  },
  {
   "cell_type": "code",
   "execution_count": 23,
   "metadata": {},
   "outputs": [
    {
     "name": "stdout",
     "output_type": "stream",
     "text": [
      "3\n",
      "6\n",
      "6 eh perfeito\n",
      "5\n",
      "5 nao eh perfeito\n",
      "28\n",
      "28 eh perfeito\n"
     ]
    }
   ],
   "source": [
    "N = int(input())\n",
    "\n",
    "for item in range(N):\n",
    "    X = int(input())\n",
    "    i = []\n",
    "    for it in range(1, X):\n",
    "        if (X%it  == 0):\n",
    "            i.append(it)\n",
    "    if(sum(i) == X):\n",
    "        print('%i eh perfeito'% X)\n",
    "    else:\n",
    "        print('%i nao eh perfeito'% X)"
   ]
  },
  {
   "cell_type": "code",
   "execution_count": 1,
   "metadata": {},
   "outputs": [],
   "source": [
    "# Probelm no: 1165"
   ]
  },
  {
   "cell_type": "code",
   "execution_count": 5,
   "metadata": {},
   "outputs": [
    {
     "name": "stdout",
     "output_type": "stream",
     "text": [
      "3\n",
      "7\n",
      "7 eh prime\n",
      "5\n",
      "5 eh prime\n",
      "20\n",
      "20 nao eh prime\n"
     ]
    }
   ],
   "source": [
    "N = int(input())\n",
    "\n",
    "for item in range(N):\n",
    "    X = int(input())\n",
    "    count = 0\n",
    "    for item2 in range(1, X+1):\n",
    "        if(X%item2 == 0):\n",
    "            count += 1\n",
    "    if(count == 2):\n",
    "        print('{} eh prime'.format(X))\n",
    "    else:\n",
    "        print('{} nao eh prime'.format(X))"
   ]
  },
  {
   "cell_type": "code",
   "execution_count": 2,
   "metadata": {},
   "outputs": [],
   "source": [
    "# Probelm no: 1172"
   ]
  },
  {
   "cell_type": "code",
   "execution_count": 7,
   "metadata": {},
   "outputs": [
    {
     "name": "stdout",
     "output_type": "stream",
     "text": [
      "0\n",
      "-5\n",
      "63\n",
      "0\n",
      "4\n",
      "-1\n",
      "4\n",
      "1\n",
      "3\n",
      "5\n",
      "X[0] = 1\n",
      "X[1] = 1\n",
      "X[2] = 63\n",
      "X[3] = 1\n",
      "X[4] = 4\n",
      "X[5] = 1\n",
      "X[6] = 4\n",
      "X[7] = 1\n",
      "X[8] = 3\n",
      "X[9] = 5\n"
     ]
    }
   ],
   "source": [
    "X = []\n",
    "for item in range(10):\n",
    "    N = int(input())\n",
    "    if (N <= 0):\n",
    "        N = 1\n",
    "    X.append(N)\n",
    "    \n",
    "for i in range(10):\n",
    "    print('X[{}] = {}'.format(i, X[i]))\n",
    "    i += 1"
   ]
  },
  {
   "cell_type": "code",
   "execution_count": 8,
   "metadata": {},
   "outputs": [],
   "source": [
    "# Probelm no: 1173"
   ]
  },
  {
   "cell_type": "code",
   "execution_count": 9,
   "metadata": {},
   "outputs": [
    {
     "name": "stdout",
     "output_type": "stream",
     "text": [
      "1\n",
      "N[0] = 1\n",
      "N[1] = 2\n",
      "N[2] = 4\n",
      "N[3] = 8\n",
      "N[4] = 16\n",
      "N[5] = 32\n",
      "N[6] = 64\n",
      "N[7] = 128\n",
      "N[8] = 256\n",
      "N[9] = 512\n"
     ]
    }
   ],
   "source": [
    "V = int(input())\n",
    "\n",
    "for item in range(10):\n",
    "    print('N[{}] = {}'.format(item, V))\n",
    "    V += V"
   ]
  },
  {
   "cell_type": "code",
   "execution_count": 10,
   "metadata": {},
   "outputs": [],
   "source": [
    "# Probelm no: 1174"
   ]
  },
  {
   "cell_type": "code",
   "execution_count": 23,
   "metadata": {},
   "outputs": [
    {
     "name": "stdout",
     "output_type": "stream",
     "text": [
      "0\n",
      "-5\n",
      "63\n",
      "-8.5\n",
      "-9.4940\n",
      "A[0] = 0.0\n",
      "A[1] = -5.0\n",
      "A[3] = -8.5\n",
      "A[4] = -9.494\n"
     ]
    }
   ],
   "source": [
    "A = []\n",
    "\n",
    "for item in range(5):\n",
    "    X = float(input())\n",
    "    A.append(X)\n",
    "\n",
    "for item in range(5):\n",
    "    if(A[item] <= 10):\n",
    "        print(\"A[{}] = {}\".format(item, A[item]))"
   ]
  },
  {
   "cell_type": "code",
   "execution_count": 24,
   "metadata": {},
   "outputs": [],
   "source": [
    "# Probelm no: 1175"
   ]
  },
  {
   "cell_type": "code",
   "execution_count": 3,
   "metadata": {},
   "outputs": [
    {
     "name": "stdout",
     "output_type": "stream",
     "text": [
      "0\n",
      "-5\n",
      "50\n",
      "63\n",
      "230\n",
      "N[0] = 230\n",
      "N[1] = 63\n",
      "N[2] = 50\n",
      "N[3] = -5\n",
      "N[4] = 0\n"
     ]
    }
   ],
   "source": [
    "#A = [1,2,3,4]\n",
    "#A = A[::-1]\n",
    "#print(A[0])\n",
    "\n",
    "N = []\n",
    "\n",
    "for item in range(20):\n",
    "    Y = int(input())\n",
    "    N.append(Y)\n",
    "\n",
    "count = 0\n",
    "\n",
    "for item in N[::-1]:\n",
    "    print('N[%i] = %i' %(count, item))\n",
    "    count += 1\n",
    "        \n",
    "    "
   ]
  },
  {
   "cell_type": "code",
   "execution_count": 34,
   "metadata": {},
   "outputs": [],
   "source": [
    "# Probelm no: 1176"
   ]
  },
  {
   "cell_type": "code",
   "execution_count": 7,
   "metadata": {},
   "outputs": [
    {
     "name": "stdout",
     "output_type": "stream",
     "text": [
      "3\n",
      "0\n",
      "Fib(0) = 0\n",
      "4\n",
      "Fib(4) = 3\n",
      "2\n",
      "Fib(2) = 1\n"
     ]
    }
   ],
   "source": [
    "Fib = [0,1]\n",
    "a = 0\n",
    "b = 1\n",
    "\n",
    "for item in range(60):\n",
    "    c = a + b\n",
    "    Fib.append(c)\n",
    "    a = b\n",
    "    b = c\n",
    "    \n",
    "T = int(input())\n",
    "for item in range(T):\n",
    "    N = int(input())\n",
    "    print('Fib({}) = {}'.format(N, Fib[N]))"
   ]
  },
  {
   "cell_type": "code",
   "execution_count": null,
   "metadata": {},
   "outputs": [],
   "source": []
  }
 ],
 "metadata": {
  "kernelspec": {
   "display_name": "Python 3",
   "language": "python",
   "name": "python3"
  },
  "language_info": {
   "codemirror_mode": {
    "name": "ipython",
    "version": 3
   },
   "file_extension": ".py",
   "mimetype": "text/x-python",
   "name": "python",
   "nbconvert_exporter": "python",
   "pygments_lexer": "ipython3",
   "version": "3.7.6"
  }
 },
 "nbformat": 4,
 "nbformat_minor": 4
}
