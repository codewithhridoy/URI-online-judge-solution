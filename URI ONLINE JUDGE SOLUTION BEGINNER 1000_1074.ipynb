{
 "cells": [
  {
   "cell_type": "markdown",
   "metadata": {},
   "source": [
    "            URI ONLINE JUDGE SOLUTION - BEGINNER : Problem-1000 to 1074"
   ]
  },
  {
   "cell_type": "code",
   "execution_count": null,
   "metadata": {},
   "outputs": [],
   "source": [
    "'''\n",
    "\n",
    "Hridoy Ahmed\n",
    "Daffodil International University\n",
    "Dept. of Computer Science & Engineering\n",
    "Email: hridoy15-7981@diu.edu.bd\n",
    "Facebook Profile: https://web.facebook.com/HridoyAhmedCSE\n",
    "\n",
    "'''"
   ]
  },
  {
   "cell_type": "code",
   "execution_count": 1,
   "metadata": {},
   "outputs": [],
   "source": [
    "# Probelm no: 1000"
   ]
  },
  {
   "cell_type": "code",
   "execution_count": 2,
   "metadata": {},
   "outputs": [
    {
     "name": "stdout",
     "output_type": "stream",
     "text": [
      "Hello World!\n"
     ]
    }
   ],
   "source": [
    "print('Hello World!')"
   ]
  },
  {
   "cell_type": "code",
   "execution_count": 1,
   "metadata": {},
   "outputs": [],
   "source": [
    "# Probelm no: 1001"
   ]
  },
  {
   "cell_type": "code",
   "execution_count": 2,
   "metadata": {},
   "outputs": [
    {
     "name": "stdout",
     "output_type": "stream",
     "text": [
      "34\n",
      "3\n",
      "X = 37\n"
     ]
    }
   ],
   "source": [
    "A = int(input())\n",
    "B = int(input())\n",
    "\n",
    "X = A + B\n",
    "\n",
    "print(\"X = %i\" %X)"
   ]
  },
  {
   "cell_type": "code",
   "execution_count": 3,
   "metadata": {},
   "outputs": [],
   "source": [
    "#Problem no: 1002"
   ]
  },
  {
   "cell_type": "code",
   "execution_count": 4,
   "metadata": {},
   "outputs": [
    {
     "name": "stdout",
     "output_type": "stream",
     "text": [
      "3\n",
      "A=28.2743\n"
     ]
    }
   ],
   "source": [
    "pi = 3.14159\n",
    "R = float(input())\n",
    "\n",
    "A = pi*R*R\n",
    "\n",
    "print('A=%.4f'%A)"
   ]
  },
  {
   "cell_type": "code",
   "execution_count": 5,
   "metadata": {},
   "outputs": [],
   "source": [
    "#Problem no: 1003"
   ]
  },
  {
   "cell_type": "code",
   "execution_count": 6,
   "metadata": {},
   "outputs": [
    {
     "name": "stdout",
     "output_type": "stream",
     "text": [
      "3\n",
      "2\n",
      "SOMA = 5\n"
     ]
    }
   ],
   "source": [
    "A = int(input())\n",
    "B = int(input())\n",
    "SOMA = A + B\n",
    "print(\"SOMA = %i\" %SOMA)"
   ]
  },
  {
   "cell_type": "code",
   "execution_count": 7,
   "metadata": {},
   "outputs": [],
   "source": [
    "#Problem no: 1004"
   ]
  },
  {
   "cell_type": "code",
   "execution_count": 1,
   "metadata": {},
   "outputs": [
    {
     "name": "stdout",
     "output_type": "stream",
     "text": [
      "4\n",
      "5\n",
      "PROD = 20\n"
     ]
    }
   ],
   "source": [
    "A = int(input())\n",
    "B = int(input())\n",
    "PROD = A * B\n",
    "print('PROD = %i'%PROD)"
   ]
  },
  {
   "cell_type": "code",
   "execution_count": null,
   "metadata": {},
   "outputs": [],
   "source": [
    "#Problem no: 1005"
   ]
  },
  {
   "cell_type": "code",
   "execution_count": 2,
   "metadata": {},
   "outputs": [
    {
     "name": "stdout",
     "output_type": "stream",
     "text": [
      "5.0\n",
      "7.1\n",
      "MEDIA = 6.43182\n"
     ]
    }
   ],
   "source": [
    "#Average = {(A*w1)  + (B*w2)} / (w1 + w2)\n",
    "A = float(input())\n",
    "B = float(input())\n",
    "A = A * 3.5\n",
    "B = B * 7.5\n",
    "C = (3.5 + 7.5)\n",
    "MEDIA = (A + B) / C\n",
    "print('MEDIA = %.5f'%MEDIA)"
   ]
  },
  {
   "cell_type": "code",
   "execution_count": null,
   "metadata": {},
   "outputs": [],
   "source": [
    "#Problem no: 1006"
   ]
  },
  {
   "cell_type": "code",
   "execution_count": 3,
   "metadata": {},
   "outputs": [
    {
     "name": "stdout",
     "output_type": "stream",
     "text": [
      "5.0\n",
      "6.0\n",
      "7.0\n",
      "MEDIA = 6.3\n"
     ]
    }
   ],
   "source": [
    "A = float(input())\n",
    "B = float(input())\n",
    "C = float(input())\n",
    "A = A * 2\n",
    "B = B * 3\n",
    "C = C * 5\n",
    "D = (2 + 3 + 5)\n",
    "MEDIA = (A + B + C) / D\n",
    "print('MEDIA = %.1f'%MEDIA)"
   ]
  },
  {
   "cell_type": "code",
   "execution_count": null,
   "metadata": {},
   "outputs": [],
   "source": [
    "#Problem no: 1007"
   ]
  },
  {
   "cell_type": "code",
   "execution_count": 6,
   "metadata": {},
   "outputs": [
    {
     "name": "stdout",
     "output_type": "stream",
     "text": [
      "4\n",
      "5\n",
      "3\n",
      "2\n",
      "DIFERENCA = 14\n"
     ]
    }
   ],
   "source": [
    "A = int(input())\n",
    "B = int(input())\n",
    "C = int(input())\n",
    "D = int(input())\n",
    "DIFERENCA = (A * B - C * D)\n",
    "print('DIFERENCA = %i'%DIFERENCA)"
   ]
  },
  {
   "cell_type": "code",
   "execution_count": null,
   "metadata": {},
   "outputs": [],
   "source": [
    "#Problem no: 1008"
   ]
  },
  {
   "cell_type": "code",
   "execution_count": 7,
   "metadata": {},
   "outputs": [
    {
     "name": "stdout",
     "output_type": "stream",
     "text": [
      "12\n",
      "500\n",
      "23.00\n",
      "NUMBER = 12\n",
      "SALARY = U$ 11500.00\n"
     ]
    }
   ],
   "source": [
    "A = int(input())\n",
    "B = int(input())\n",
    "C = float(input())\n",
    "salary = B * C\n",
    "print('NUMBER = %i'%A)\n",
    "print('SALARY = U$ %.2f'%salary)"
   ]
  },
  {
   "cell_type": "code",
   "execution_count": 8,
   "metadata": {},
   "outputs": [],
   "source": [
    "#Problem no: 1009"
   ]
  },
  {
   "cell_type": "code",
   "execution_count": 9,
   "metadata": {},
   "outputs": [
    {
     "name": "stdout",
     "output_type": "stream",
     "text": [
      "Hridoy\n",
      "10.0\n",
      "45.0\n",
      "TOTAL = R$ 16.75\n"
     ]
    }
   ],
   "source": [
    "A = input()\n",
    "B = float(input())\n",
    "C = float(input())\n",
    "\n",
    "TOTAL = B + C * (15/100)\n",
    "print('TOTAL = R$ %.2f'%TOTAL)"
   ]
  },
  {
   "cell_type": "code",
   "execution_count": 10,
   "metadata": {},
   "outputs": [],
   "source": [
    "#Problem no: 1010"
   ]
  },
  {
   "cell_type": "code",
   "execution_count": 11,
   "metadata": {},
   "outputs": [
    {
     "name": "stdout",
     "output_type": "stream",
     "text": [
      "3 5 56.0\n",
      "34 5 345.0\n",
      "VALOR A PAGAR: R$ 2005.00\n"
     ]
    }
   ],
   "source": [
    "#Product_Cost = (Quantity1 * Product1) + (Quantity2 * Product2)\n",
    "A1, Q1, P1 = input().split()\n",
    "A2, Q2, P2 = input().split()\n",
    "\n",
    "A1 = int(A1)\n",
    "Q1 = int(Q1)\n",
    "P1 = float(P1)\n",
    "\n",
    "A2 = int(A2)\n",
    "Q2 = int(Q2)\n",
    "P2 = float(P2)\n",
    "\n",
    "VALOR_A_PAGAR = (Q1 * P1) + (Q2 * P2)\n",
    "\n",
    "print('VALOR A PAGAR: R$ %.2f'%VALOR_A_PAGAR)"
   ]
  },
  {
   "cell_type": "code",
   "execution_count": 12,
   "metadata": {},
   "outputs": [],
   "source": [
    "#Problem no: 1011"
   ]
  },
  {
   "cell_type": "code",
   "execution_count": 13,
   "metadata": {},
   "outputs": [
    {
     "name": "stdout",
     "output_type": "stream",
     "text": [
      "3\n",
      "VOLUME = 113.097\n"
     ]
    }
   ],
   "source": [
    "R = float(input())\n",
    "PI = 3.14159\n",
    "\n",
    "VOLUME = (4.0 / 3) * PI * R * R * R\n",
    "\n",
    "print('VOLUME = %.3f'%VOLUME)"
   ]
  },
  {
   "cell_type": "code",
   "execution_count": 14,
   "metadata": {},
   "outputs": [],
   "source": [
    "#Problem no: 1012"
   ]
  },
  {
   "cell_type": "code",
   "execution_count": 17,
   "metadata": {},
   "outputs": [
    {
     "name": "stdout",
     "output_type": "stream",
     "text": [
      "5 6 8\n",
      "TRIANGULO: 20.000\n",
      "CIRCULO: 201.062\n",
      "TRAPEZIO: 44.000\n",
      "QUADRADO: 36.000\n",
      "RETANGULO: 30.000\n"
     ]
    }
   ],
   "source": [
    "#Tribuj = 1/2 * vumi(base) * ucchota(height)\n",
    "#Britto = pi * radius * radius\n",
    "#Trapizium = 1/2 * Vumir Jogfol (Base add) * ucchota(height)\n",
    "#Borgo = 2 bahur(side) gunfol\n",
    "#Ayoto = Biporit bahur gunfol\n",
    "\n",
    "A, B, C = input().split()\n",
    "\n",
    "A = float(A)\n",
    "B = float(B)\n",
    "C = float(C)\n",
    "\n",
    "pi = 3.14159\n",
    "\n",
    "tribuj = (1 / 2) * A * C\n",
    "britto = pi * C * C\n",
    "trapizium = (1 / 2) * (A + B) * C\n",
    "borgo = B * B\n",
    "ayoto = A * B\n",
    "\n",
    "print(\"TRIANGULO: %.3f\"%tribuj)\n",
    "print(\"CIRCULO: %.3f\"%britto)\n",
    "print(\"TRAPEZIO: %.3f\"%trapizium)\n",
    "print(\"QUADRADO: %.3f\"%borgo)\n",
    "print(\"RETANGULO: %.3f\"%ayoto)"
   ]
  },
  {
   "cell_type": "code",
   "execution_count": 18,
   "metadata": {},
   "outputs": [],
   "source": [
    "#Problem no: 1013"
   ]
  },
  {
   "cell_type": "code",
   "execution_count": 19,
   "metadata": {},
   "outputs": [
    {
     "name": "stdout",
     "output_type": "stream",
     "text": [
      "4 5 7\n",
      "7 eh o maior\n"
     ]
    }
   ],
   "source": [
    "#Greatest = {a + b + abs (a-b)} / 2\n",
    "\n",
    "A, B, C = input().split()\n",
    "\n",
    "A = int(A)\n",
    "B = int(B)\n",
    "C = int(C)\n",
    "\n",
    "MAIOR = (A + B +abs(A - B))/2\n",
    "MAIOR = int(MAIOR)\n",
    "RESULT = (MAIOR + C + abs(MAIOR- C))/2\n",
    "\n",
    "print('%i eh o maior'%RESULT)\n"
   ]
  },
  {
   "cell_type": "code",
   "execution_count": 20,
   "metadata": {},
   "outputs": [],
   "source": [
    "#Problem no: 1014"
   ]
  },
  {
   "cell_type": "code",
   "execution_count": 21,
   "metadata": {},
   "outputs": [
    {
     "name": "stdout",
     "output_type": "stream",
     "text": [
      "5\n",
      "7.9\n",
      "0.633 km/l\n"
     ]
    }
   ],
   "source": [
    "X = int(input())\n",
    "Y = float(input())\n",
    "\n",
    "avg = X / Y\n",
    "\n",
    "print(\"%.3f km/l\"%avg)"
   ]
  },
  {
   "cell_type": "code",
   "execution_count": 22,
   "metadata": {},
   "outputs": [],
   "source": [
    "# Problem no: 1015"
   ]
  },
  {
   "cell_type": "code",
   "execution_count": 23,
   "metadata": {},
   "outputs": [
    {
     "name": "stdout",
     "output_type": "stream",
     "text": [
      "1.0 7.0\n",
      "5.0 9.0\n",
      "4.4721\n"
     ]
    }
   ],
   "source": [
    "x1, y1 = input().split()\n",
    "x2, y2 = input().split()\n",
    "\n",
    "x1 = float(x1)\n",
    "y1 = float(y1)\n",
    "\n",
    "x2 = float(x2)\n",
    "y2 = float(y2)\n",
    "\n",
    "A = (x2 - x1) * (x2 - x1)\n",
    "B = (y2 - y1) * (y2 - y1)\n",
    "\n",
    "Distance = A + B\n",
    "\n",
    "Result = Distance ** 0.5\n",
    "\n",
    "print(\"%.4f\"%Result)"
   ]
  },
  {
   "cell_type": "code",
   "execution_count": 24,
   "metadata": {},
   "outputs": [],
   "source": [
    "#Problem no: 1016"
   ]
  },
  {
   "cell_type": "code",
   "execution_count": 25,
   "metadata": {},
   "outputs": [
    {
     "name": "stdout",
     "output_type": "stream",
     "text": [
      "30\n",
      "60 minutos\n"
     ]
    }
   ],
   "source": [
    "A = int(input())\n",
    "distance = A * 2\n",
    "\n",
    "print(\"%i minutos\"%distance)"
   ]
  },
  {
   "cell_type": "code",
   "execution_count": 26,
   "metadata": {},
   "outputs": [],
   "source": [
    "#Problem no: 1017"
   ]
  },
  {
   "cell_type": "code",
   "execution_count": 27,
   "metadata": {},
   "outputs": [
    {
     "name": "stdout",
     "output_type": "stream",
     "text": [
      "10\n",
      "85\n",
      "70.833\n"
     ]
    }
   ],
   "source": [
    "A = int(input())\n",
    "B = int(input())\n",
    "\n",
    "Result = (A * B) / 12\n",
    "\n",
    "print(\"%.3f\"%Result)"
   ]
  },
  {
   "cell_type": "code",
   "execution_count": 28,
   "metadata": {},
   "outputs": [],
   "source": [
    "#Problem no: 1018"
   ]
  },
  {
   "cell_type": "code",
   "execution_count": 29,
   "metadata": {},
   "outputs": [
    {
     "name": "stdout",
     "output_type": "stream",
     "text": [
      "576\n",
      "576\n",
      "5 nota(s) de R$ 100,00\n",
      "1 nota(s) de R$ 50,00\n",
      "1 nota(s) de R$ 20,00\n",
      "0 nota(s) de R$ 10,00\n",
      "1 nota(s) de R$ 5,00\n",
      "0 nota(s) de R$ 2,00\n",
      "1 nota(s) de R$ 1,00\n"
     ]
    }
   ],
   "source": [
    "N = int(input())\n",
    "\n",
    "if N>0 and N<1000000:\n",
    "  N100 = N / 100\n",
    "  B = N % 100\n",
    "\n",
    "  N50 = B / 50\n",
    "  B %=50\n",
    "\n",
    "  N20 = B / 20\n",
    "  B %=20\n",
    "\n",
    "  N10 = B / 10\n",
    "  B %=10\n",
    "\n",
    "  N5 = B / 5\n",
    "  B %=5\n",
    "\n",
    "  N2 = B / 2\n",
    "  B %=2\n",
    "\n",
    "  N1 = B / 1\n",
    "  B %=1\n",
    "  \n",
    "  print(N)\n",
    "  print(\"%i nota(s) de R$ 100,00\"%N100)\n",
    "  print(\"%i nota(s) de R$ 50,00\"%N50)\n",
    "  print(\"%i nota(s) de R$ 20,00\"%N20)\n",
    "  print(\"%i nota(s) de R$ 10,00\"%N10)\n",
    "  print(\"%i nota(s) de R$ 5,00\"%N5)\n",
    "  print(\"%i nota(s) de R$ 2,00\"%N2)\n",
    "  print(\"%i nota(s) de R$ 1,00\"%N1)"
   ]
  },
  {
   "cell_type": "code",
   "execution_count": 30,
   "metadata": {},
   "outputs": [],
   "source": [
    "#Problem no: 1019"
   ]
  },
  {
   "cell_type": "code",
   "execution_count": 45,
   "metadata": {},
   "outputs": [
    {
     "name": "stdout",
     "output_type": "stream",
     "text": [
      "140153\n",
      "38:55:53\n"
     ]
    }
   ],
   "source": [
    "N = int(input())\n",
    "\n",
    "Gonta = N // 3600\n",
    "Extra = N % 3600\n",
    "\n",
    "Minute = Extra // 60\n",
    "Extra %= 60\n",
    "\n",
    "Second = Extra // 1\n",
    "\n",
    "print(Gonta,Minute,Second,sep=':') # sep represents G:M:S\n",
    "#print('{}:{}:{}'.format(Gonta,Minute,Second))"
   ]
  },
  {
   "cell_type": "code",
   "execution_count": 33,
   "metadata": {},
   "outputs": [],
   "source": [
    "#Problem no: 1020"
   ]
  },
  {
   "cell_type": "code",
   "execution_count": 34,
   "metadata": {},
   "outputs": [
    {
     "name": "stdout",
     "output_type": "stream",
     "text": [
      "400\n",
      "1 ano(s)\n",
      "1 mes(es)\n",
      "5 dia(s)\n"
     ]
    }
   ],
   "source": [
    "A = int(input())\n",
    "\n",
    "Year = A // 365 # // returns integer value\n",
    "R = A % 365\n",
    "\n",
    "Month = R // 30\n",
    "R %= 30\n",
    "\n",
    "Day = R // 1\n",
    "\n",
    "print(\"%i ano(s)\"%Year)\n",
    "print(\"%i mes(es)\"%Month)\n",
    "print(\"%i dia(s)\"%Day)"
   ]
  },
  {
   "cell_type": "code",
   "execution_count": 35,
   "metadata": {},
   "outputs": [],
   "source": [
    "#Problem no: 1021"
   ]
  },
  {
   "cell_type": "code",
   "execution_count": 19,
   "metadata": {},
   "outputs": [
    {
     "name": "stdout",
     "output_type": "stream",
     "text": [
      "576.73\n",
      "NOTAS:\n",
      "5 nota(s) de R$ 100.00\n",
      "1 nota(s) de R$ 50.00\n",
      "1 nota(s) de R$ 20.00\n",
      "0 nota(s) de R$ 10.00\n",
      "1 nota(s) de R$ 5.00\n",
      "0 nota(s) de R$ 2.00\n",
      "MOEDAS:\n",
      "1 moeda(s) de R$ 1.00\n",
      "1 moeda(s) de R$ 0.50\n",
      "0 moeda(s) de R$ 0.25\n",
      "2 moeda(s) de R$ 0.10\n",
      "0 moeda(s) de R$ 0.05\n",
      "3 moeda(s) de R$ 0.01\n"
     ]
    }
   ],
   "source": [
    "A=float(input())\n",
    "N=A\n",
    "\n",
    "a=N/100\n",
    "b=N%100\n",
    "c=b/50\n",
    "d=b%50\n",
    "e=d/20\n",
    "f=d%20\n",
    "g=f/10\n",
    "h=f%10\n",
    "i=h/5\n",
    "j=h%5\n",
    "k=j/2\n",
    "l=j%2\n",
    "\n",
    "E=A*100\n",
    "B=(int(E))\n",
    "m=B%100\n",
    "n=m/50\n",
    "o=m%50\n",
    "p=o/25\n",
    "q=o%25\n",
    "r=q/10\n",
    "s=q%10\n",
    "t=s/5\n",
    "u=s%5\n",
    "\n",
    "print(\"NOTAS:\")\n",
    "print(\"{} nota(s) de R$ 100.00\".format(int(a)))\n",
    "print(\"{} nota(s) de R$ 50.00\".format(int(c)))\n",
    "print(\"{} nota(s) de R$ 20.00\".format(int(e)))\n",
    "print(\"{} nota(s) de R$ 10.00\".format(int(g)))\n",
    "print(\"{} nota(s) de R$ 5.00\".format(int(i)))\n",
    "print(\"{} nota(s) de R$ 2.00\".format(int(k)))\n",
    "print(\"MOEDAS:\")\n",
    "print(\"{} moeda(s) de R$ 1.00\".format(int(l)))\n",
    "print(\"{} moeda(s) de R$ 0.50\".format(int(n)))\n",
    "print(\"{} moeda(s) de R$ 0.25\".format(int(p)))\n",
    "print(\"{} moeda(s) de R$ 0.10\".format(int(r)))\n",
    "print(\"{} moeda(s) de R$ 0.05\".format(int(t)))\n",
    "print(\"{} moeda(s) de R$ 0.01\".format(int(u)))"
   ]
  },
  {
   "cell_type": "code",
   "execution_count": 1,
   "metadata": {},
   "outputs": [],
   "source": [
    "#Problem no: 1035"
   ]
  },
  {
   "cell_type": "code",
   "execution_count": 28,
   "metadata": {},
   "outputs": [
    {
     "name": "stdout",
     "output_type": "stream",
     "text": [
      "2 3 2 6\n",
      "Valores aceitos\n"
     ]
    }
   ],
   "source": [
    "A, B, C, D = input().split()\n",
    "\n",
    "A = int(A)\n",
    "B = int(B)\n",
    "C = int(C)\n",
    "D = int(D)\n",
    "\n",
    "c1 = B>C and D>A\n",
    "c2 = C+D > A+B\n",
    "c3 = C>0 and D>0\n",
    "c4 = A%2\n",
    "\n",
    "if c1 and c2 and c3 and c4 == 0:\n",
    "    print(\"Valores aceitos\")\n",
    "else:\n",
    "    print(\"Valores nao aceitos\")"
   ]
  },
  {
   "cell_type": "code",
   "execution_count": 8,
   "metadata": {},
   "outputs": [],
   "source": [
    "#Problem no: 1036"
   ]
  },
  {
   "cell_type": "code",
   "execution_count": 11,
   "metadata": {},
   "outputs": [
    {
     "name": "stdout",
     "output_type": "stream",
     "text": [
      "10.3 203.0 5.0\n",
      "R1 = -0.02466\n",
      "R2 = -19.68408\n"
     ]
    }
   ],
   "source": [
    "A, B, C = input().split()\n",
    "\n",
    "A = float(A)\n",
    "B = float(B)\n",
    "C = float(C)\n",
    "\n",
    "divCheck = 2 * A\n",
    "sqrtCheck = (B*B - 4*A*C)\n",
    "\n",
    "if divCheck == 0 or sqrtCheck < 0:\n",
    "    print('Impossivel calcular')\n",
    "    \n",
    "else:\n",
    "    R1 = (-B + sqrtCheck ** 0.5) / divCheck\n",
    "    R2 = (-B - sqrtCheck ** 0.5) / divCheck\n",
    "    \n",
    "    print('R1 = %.5f'%R1)\n",
    "    print('R2 = %.5f'%R2)"
   ]
  },
  {
   "cell_type": "code",
   "execution_count": 9,
   "metadata": {},
   "outputs": [],
   "source": [
    "#Problem no: 1037"
   ]
  },
  {
   "cell_type": "code",
   "execution_count": 17,
   "metadata": {},
   "outputs": [
    {
     "name": "stdout",
     "output_type": "stream",
     "text": [
      "75\n",
      "Intervalo (50,75]\n"
     ]
    }
   ],
   "source": [
    "num = float(input())\n",
    "\n",
    "if num >= 0 and num <= 100:\n",
    "    if num >= 0 and num <=25:\n",
    "        print('Intervalo [0,25]')\n",
    "    elif num > 25 and num <=50:\n",
    "        print('Intervalo (25,50]')\n",
    "    elif num > 50 and num <=75:\n",
    "        print('Intervalo (50,75]')\n",
    "    elif num > 75 and num <=100:\n",
    "        print('Intervalo (75,100]')\n",
    "\n",
    "else:\n",
    "    print('Fora de intervalo')\n",
    "        "
   ]
  },
  {
   "cell_type": "code",
   "execution_count": 20,
   "metadata": {},
   "outputs": [],
   "source": [
    "#Problem no: 1038"
   ]
  },
  {
   "cell_type": "code",
   "execution_count": 3,
   "metadata": {},
   "outputs": [
    {
     "name": "stdout",
     "output_type": "stream",
     "text": [
      "4 3\n",
      "Total: R$ 6.00\n"
     ]
    }
   ],
   "source": [
    "X,Y =input().split()\n",
    "\n",
    "X = int(X)\n",
    "Y = int(Y)\n",
    "\n",
    "if X == 1:\n",
    "    Total = 4.00 * Y\n",
    "    print('Total: R$ %.2f'%Total)\n",
    "    \n",
    "elif X == 2:\n",
    "    Total = 4.50 * Y\n",
    "    print('Total: R$ %.2f'%Total)\n",
    "\n",
    "elif X == 3:\n",
    "    Total = 5.00 * Y\n",
    "    print('Total: R$ %.2f'%Total)\n",
    "\n",
    "elif X == 4:\n",
    "    Total = 2.00 * Y\n",
    "    print('Total: R$ %.2f'%Total)\n",
    "    \n",
    "elif X == 5:\n",
    "    Total = 1.50 * Y\n",
    "    print('Total: R$ %.2f'%Total)"
   ]
  },
  {
   "cell_type": "code",
   "execution_count": 26,
   "metadata": {},
   "outputs": [],
   "source": [
    "#Problem no: 1040"
   ]
  },
  {
   "cell_type": "code",
   "execution_count": 6,
   "metadata": {},
   "outputs": [
    {
     "name": "stdout",
     "output_type": "stream",
     "text": [
      "2 4 7.5 8\n",
      "Media: 5.4\n",
      "Aluno em exame.\n",
      "6.4\n",
      "Nota do exame: 6.4\n",
      "Aluno aprovado.\n",
      "Media final: 5.9\n"
     ]
    }
   ],
   "source": [
    "N1, N2,  N3, N4 = input().split()\n",
    "\n",
    "N1 = float(N1)\n",
    "N2 = float(N2)\n",
    "N3 = float(N3)\n",
    "N4 = float(N4)\n",
    "\n",
    "avg = (N1*2 + N2*3 + N3*4 + N4*1) / (2+3+4+1)\n",
    "print('Media: %.1f'%avg)\n",
    "\n",
    "if avg >= 7:\n",
    "    print('Aluno aprovado.')\n",
    "    \n",
    "elif avg < 5:\n",
    "    print('Aluno reprovado.')\n",
    "    \n",
    "elif avg >= 5.0 and avg <= 6.9:\n",
    "    print('Aluno em exame.')\n",
    "    \n",
    "    N5 = float(input())\n",
    "    print('Nota do exame: %.1f'%N5)\n",
    "    \n",
    "    favg = (avg+N5) / 2\n",
    "    \n",
    "    if favg >= 5:\n",
    "        print('Aluno aprovado.')\n",
    "        print('Media final: %.1f'%favg)\n",
    "        \n",
    "    else:\n",
    "        print('Aluno reprovado.')\n",
    "        print('Media final: %.1f'%favg)"
   ]
  },
  {
   "cell_type": "code",
   "execution_count": 8,
   "metadata": {},
   "outputs": [],
   "source": [
    "#Problem no: 1041"
   ]
  },
  {
   "cell_type": "code",
   "execution_count": 36,
   "metadata": {},
   "outputs": [
    {
     "name": "stdout",
     "output_type": "stream",
     "text": [
      "0 0\n",
      "Origem\n"
     ]
    }
   ],
   "source": [
    "#Using Map Function\n",
    "#x,y=list(map(float,input().split()))\n",
    "\n",
    "#Without map function\n",
    "x, y = input().split()\n",
    "\n",
    "x = float(x)\n",
    "y = float(y)\n",
    "\n",
    "if x == 0 and y == 0:\n",
    "    print(\"Origem\")\n",
    "    \n",
    "elif (x == 0):\n",
    "    print(\"Eixo Y\")\n",
    "    \n",
    "elif (y == 0):\n",
    "    print(\"Eixo X\")\n",
    "    \n",
    "elif x > 0 and y > 0:\n",
    "    print('Q1')\n",
    "\n",
    "elif x < 0 and y > 0:\n",
    "    print('Q2')\n",
    "\n",
    "elif x < 0 and y < 0:\n",
    "    print('Q3')\n",
    "    \n",
    "elif x > 0 and y < 0:\n",
    "    print('Q4')"
   ]
  },
  {
   "cell_type": "code",
   "execution_count": 9,
   "metadata": {},
   "outputs": [],
   "source": [
    "#Problem no: 1042"
   ]
  },
  {
   "cell_type": "code",
   "execution_count": 41,
   "metadata": {},
   "outputs": [
    {
     "name": "stdout",
     "output_type": "stream",
     "text": [
      "7 21 -14\n",
      "-14\n",
      "7\n",
      "21\n",
      " \n",
      "7\n",
      "21\n",
      "-14\n"
     ]
    }
   ],
   "source": [
    "A, B, C = list(map(int,input().split()))\n",
    "\n",
    "list_item = [A, B, C]\n",
    "list_item.sort()\n",
    "\n",
    "print(list_item[0])\n",
    "print(list_item[1])\n",
    "print(list_item[2])\n",
    "\n",
    "print('')\n",
    "\n",
    "print(A)\n",
    "print(B)\n",
    "print(C)"
   ]
  },
  {
   "cell_type": "code",
   "execution_count": 42,
   "metadata": {},
   "outputs": [],
   "source": [
    "#Problem no: 1043"
   ]
  },
  {
   "cell_type": "code",
   "execution_count": 46,
   "metadata": {},
   "outputs": [
    {
     "name": "stdout",
     "output_type": "stream",
     "text": [
      "6 4 2.1\n",
      "Perimetro = 12.1\n"
     ]
    }
   ],
   "source": [
    "#TribujCheck = Jekuno bahur doirgo < opor dui bahur doirger jogfol\n",
    "#Tribujher poridhi(perimeter) = tin bahur doirger jogfol\n",
    "#Trapizium er khetrofol = (ucchota * (bumir jogfol)) / 2\n",
    "\n",
    "a,b,c=list(map(float,input().split()))\n",
    "if(a<b+c and b < a + c and c < a + b):\n",
    "     print(\"Perimetro = %0.1f\"%(a + b + c))\n",
    "else:\n",
    "     print(\"Area = %0.1f\"%((c * (a + b)) / 2))"
   ]
  },
  {
   "cell_type": "code",
   "execution_count": 11,
   "metadata": {},
   "outputs": [],
   "source": [
    "#Problem no: 1044"
   ]
  },
  {
   "cell_type": "code",
   "execution_count": 1,
   "metadata": {},
   "outputs": [
    {
     "name": "stdout",
     "output_type": "stream",
     "text": [
      "4 24\n",
      "Sao Multiplos\n"
     ]
    }
   ],
   "source": [
    "#Multiple check  = 1st digit % 2nd digit == 0 or reverse   \n",
    "a,b=list(map(int,input().split()))\n",
    "if(b%a==0 or a%b==0):\n",
    "    print(\"Sao Multiplos\")\n",
    "else:\n",
    "    print(\"Nao sao Multiplos\")"
   ]
  },
  {
   "cell_type": "code",
   "execution_count": 12,
   "metadata": {},
   "outputs": [],
   "source": [
    "#Problem no: 1045"
   ]
  },
  {
   "cell_type": "code",
   "execution_count": 3,
   "metadata": {},
   "outputs": [
    {
     "name": "stdout",
     "output_type": "stream",
     "text": [
      "5 7 2\n",
      "NAO FORMA TRIANGULO\n"
     ]
    }
   ],
   "source": [
    "a,b,c=list(map(float,input().split()))\n",
    "\n",
    "#Decreasing Order (a > b >c) means 5 7 2 -> 7 5 2\n",
    "\n",
    "if(a < b):\n",
    "    temp = a\n",
    "    a = b\n",
    "    b = temp\n",
    "if(b < c):\n",
    "    temp = b\n",
    "    b = c\n",
    "    c = temp\n",
    "if(a < b):\n",
    "    temp = a\n",
    "    a = b\n",
    "    b = temp\n",
    "if(a>=(b+c)):\n",
    "    print(\"NAO FORMA TRIANGULO\")\n",
    "elif(a*a == (b*b+c*c)):\n",
    "     print(\"TRIANGULO RETANGULO\")\n",
    "elif(a * a > (b*b+ c*c)):\n",
    "    print(\"TRIANGULO OBTUSANGULO\")\n",
    "elif(a*a<(b*b + c*c)):\n",
    "    print(\"TRIANGULO ACUTANGULO\")\n",
    "if(a == b and b == c):\n",
    "        print(\"TRIANGULO EQUILATERO\")\n",
    "elif(a == b or b == c):\n",
    "        print(\"TRIANGULO ISOSCELES\")"
   ]
  },
  {
   "cell_type": "code",
   "execution_count": 4,
   "metadata": {},
   "outputs": [],
   "source": [
    "#Problem no: 1046"
   ]
  },
  {
   "cell_type": "code",
   "execution_count": 5,
   "metadata": {},
   "outputs": [
    {
     "name": "stdout",
     "output_type": "stream",
     "text": [
      "8 2\n",
      "O JOGO DUROU 18 HORA(S)\n"
     ]
    }
   ],
   "source": [
    "a,b=list(map(int,input().split()))\n",
    "if(a<b):\n",
    "    time=b-a\n",
    "else:\n",
    "    time=b+24-a\n",
    "print(\"O JOGO DUROU {} HORA(S)\".format(time))"
   ]
  },
  {
   "cell_type": "code",
   "execution_count": 6,
   "metadata": {},
   "outputs": [],
   "source": [
    "#Problem no: 1047"
   ]
  },
  {
   "cell_type": "code",
   "execution_count": 40,
   "metadata": {},
   "outputs": [
    {
     "name": "stdout",
     "output_type": "stream",
     "text": [
      "10 12 10 11\n",
      "O JOGO DUROU 23 HORA(S) E 59 MINUTO(S)\n"
     ]
    }
   ],
   "source": [
    "#Start Time = st, Start minute = sm, End time = et, End minute = em \n",
    "st,sm,et,em=list(map(int,input().split()))\n",
    "ft = et - st;\n",
    "if(ft < 0):\n",
    "    ft += 24\n",
    "\n",
    "fm = em - sm\n",
    "\n",
    "if(fm < 0):\n",
    "    fm += 60\n",
    "    ft = ft -1\n",
    "    \n",
    "    #for 10 12 10 11\n",
    "    if(ft < 0):\n",
    "        ft += 24\n",
    "    \n",
    "if (et == st and em == sm):\n",
    "    print(\"O JOGO DUROU {} HORA(S) E {} MINUTO(S)\".format(24,0))\n",
    "else:\n",
    "    print(\"O JOGO DUROU {} HORA(S) E {} MINUTO(S)\".format(ft,fm))"
   ]
  },
  {
   "cell_type": "code",
   "execution_count": 15,
   "metadata": {},
   "outputs": [],
   "source": [
    "#Problem no: 1048"
   ]
  },
  {
   "cell_type": "code",
   "execution_count": 13,
   "metadata": {},
   "outputs": [
    {
     "name": "stdout",
     "output_type": "stream",
     "text": [
      "800.01\n",
      "Novo salario: 880.01\n",
      "Reajuste ganho: 80.00\n",
      "Em percentual: 10 %\n"
     ]
    }
   ],
   "source": [
    "salary = float(input())\n",
    "\n",
    "if (salary >= 0 and salary <= 400):\n",
    "    p = 15\n",
    "    percentage = p / 100\n",
    "    money_increase = salary * percentage\n",
    "    new_salary = money_increase + salary\n",
    "    print(\"Novo salario: %.2f\"%new_salary)\n",
    "    print(\"Reajuste ganho: %.2f\"%money_increase)\n",
    "    print(\"Em percentual: {} {}\".format(p,\"%\"))\n",
    "\n",
    "elif(salary >= 400.01 and salary <= 800.00):\n",
    "    p = 12\n",
    "    percentage = p / 100\n",
    "    money_increase = salary * percentage\n",
    "    new_salary = money_increase + salary\n",
    "    print(\"Novo salario: %.2f\"%new_salary)\n",
    "    print(\"Reajuste ganho: %.2f\"%money_increase)\n",
    "    print(\"Em percentual: {} {}\".format(p,\"%\"))\n",
    "    \n",
    "elif(salary >= 800.01 and salary <= 1200.00):\n",
    "    p = 10\n",
    "    percentage = p / 100\n",
    "    money_increase = salary * percentage\n",
    "    new_salary = money_increase + salary\n",
    "    print(\"Novo salario: %.2f\"%new_salary)\n",
    "    print(\"Reajuste ganho: %.2f\"%money_increase)\n",
    "    print(\"Em percentual: {} {}\".format(p,\"%\"))\n",
    "    \n",
    "elif(salary >= 1201.01 and salary <= 2000.00):\n",
    "    p = 7\n",
    "    percentage = p / 100\n",
    "    money_increase = salary * percentage\n",
    "    new_salary = money_increase + salary\n",
    "    print(\"Novo salario: %.2f\"%new_salary)\n",
    "    print(\"Reajuste ganho: %.2f\"%money_increase)\n",
    "    print(\"Em percentual: {} {}\".format(p,\"%\"))\n",
    "\n",
    "elif(salary > 2000):\n",
    "    p = 4\n",
    "    percentage = p / 100\n",
    "    money_increase = salary * percentage\n",
    "    new_salary = money_increase + salary\n",
    "    print(\"Novo salario: %.2f\"%new_salary)\n",
    "    print(\"Reajuste ganho: %.2f\"%money_increase)\n",
    "    print(\"Em percentual: {} {}\".format(p,\"%\"))"
   ]
  },
  {
   "cell_type": "code",
   "execution_count": 16,
   "metadata": {},
   "outputs": [],
   "source": [
    "#Problem no: 1049"
   ]
  },
  {
   "cell_type": "code",
   "execution_count": 12,
   "metadata": {},
   "outputs": [
    {
     "name": "stdout",
     "output_type": "stream",
     "text": [
      "vertebrado\n",
      "mamifero\n",
      "onivoro\n",
      "homem\n"
     ]
    }
   ],
   "source": [
    "c1=input()\n",
    "c2=input()\n",
    "c3=input()\n",
    "if (c1==\"vertebrado\"):\n",
    "    if (c2==\"ave\"):\n",
    "        if(c3==\"carnivoro\"):\n",
    "            print(\"aguia\")\n",
    "        elif(c3==\"onivoro\"):\n",
    "            print(\"pomba\")\n",
    "    elif(c2==\"mamifero\"):\n",
    "        if(c3==\"onivoro\"):\n",
    "            print(\"homem\")\n",
    "        elif(c3==\"herbivoro\"):\n",
    "            print(\"vaca\")\n",
    "elif(c1==\"invertebrado\"):\n",
    "    if(c2==\"inseto\"):\n",
    "        if(c3==\"hematofago\"):\n",
    "            print(\"pulga\")\n",
    "        elif(c3==\"herbivoro\"):\n",
    "            print(\"lagarta\")\n",
    "    elif(c2==\"anelideo\"):\n",
    "        if(c3==\"hematofago\"):\n",
    "            print(\"sanguessuga\")\n",
    "        elif(c3==\"onivoro\"):\n",
    "            print(\"minhoca\")\n",
    "        "
   ]
  },
  {
   "cell_type": "code",
   "execution_count": 17,
   "metadata": {},
   "outputs": [],
   "source": [
    "#Problem no: 1050"
   ]
  },
  {
   "cell_type": "code",
   "execution_count": 13,
   "metadata": {},
   "outputs": [
    {
     "name": "stdout",
     "output_type": "stream",
     "text": [
      "31\n",
      "Belo Horizonte\n"
     ]
    }
   ],
   "source": [
    "n=int(input())\n",
    "if(n == 61):\n",
    "    print(\"Brasilia\")\n",
    "elif (n == 71):\n",
    "    print(\"Salvador\")\n",
    "elif(n == 11):\n",
    "    print(\"Sao Paulo\")\n",
    "elif(n == 21):\n",
    "    print(\"Rio de Janeiro\")\n",
    "elif(n == 32):\n",
    "    print(\"Juiz de Fora\")\n",
    "elif(n == 19):\n",
    "    print(\"Campinas\")\n",
    "elif(n == 27):\n",
    "    print(\"Vitoria\")\n",
    "elif(n == 31):\n",
    "    print(\"Belo Horizonte\")\n",
    "else:\n",
    "    print(\"DDD nao cadastrado\")"
   ]
  },
  {
   "cell_type": "code",
   "execution_count": 18,
   "metadata": {},
   "outputs": [],
   "source": [
    "#Problem no: 1051"
   ]
  },
  {
   "cell_type": "code",
   "execution_count": 1,
   "metadata": {},
   "outputs": [
    {
     "name": "stdout",
     "output_type": "stream",
     "text": [
      "4520\n",
      "R$ 355.60\n"
     ]
    }
   ],
   "source": [
    "a=float(input())\n",
    "if(a>=0 and a<=2000):\n",
    "    print(\"Isento\")\n",
    "elif(a>=2000.01 and a<=3000):\n",
    "    a=a-2000\n",
    "    b= a*.08\n",
    "    print(\"R$ %.2f\"%b)\n",
    "elif(a>=3000.01 and a<=4500):\n",
    "    a=a-3000\n",
    "    #3000-2000=1000\n",
    "    b= a*.18 + (1000 * 0.08)\n",
    "    print(\"R$ %.2f\"%b)\n",
    "else:\n",
    "   a = a-4500\n",
    "   #4500-2000=2500-1000=1500(1000 porjonto 8% er upor 18%)\n",
    "   b = a*.28 + (1000 * 0.08) + (1500 * 0.18)\n",
    "   print(\"R$ %.2f\"%b)"
   ]
  },
  {
   "cell_type": "code",
   "execution_count": 19,
   "metadata": {},
   "outputs": [],
   "source": [
    "#Problem no: 1052"
   ]
  },
  {
   "cell_type": "code",
   "execution_count": 16,
   "metadata": {},
   "outputs": [
    {
     "name": "stdout",
     "output_type": "stream",
     "text": [
      "8\n",
      "August\n"
     ]
    }
   ],
   "source": [
    "n = int(input())\n",
    "if n==1:\n",
    "    print('January')\n",
    "elif n==2:\n",
    "    print('February')\n",
    "elif n==3:\n",
    "    print('March')\n",
    "elif n==4:\n",
    "    print('April')\n",
    "elif n==5:\n",
    "    print('May')\n",
    "elif n==6:\n",
    "    print('June')\n",
    "elif n==7:\n",
    "    print('July')\n",
    "elif n==8:\n",
    "    print('August')\n",
    "elif n==9:\n",
    "    print('September')\n",
    "elif n==10:\n",
    "    print('October')\n",
    "elif n==11:\n",
    "    print('November')\n",
    "elif n==12:\n",
    "    print('December')"
   ]
  },
  {
   "cell_type": "code",
   "execution_count": 20,
   "metadata": {},
   "outputs": [],
   "source": [
    "#Problem no: 1059"
   ]
  },
  {
   "cell_type": "code",
   "execution_count": 35,
   "metadata": {},
   "outputs": [
    {
     "name": "stdout",
     "output_type": "stream",
     "text": [
      "2\n",
      "4\n",
      "6\n",
      "8\n",
      "10\n",
      "12\n",
      "14\n",
      "16\n",
      "18\n",
      "20\n",
      "22\n",
      "24\n",
      "26\n",
      "28\n",
      "30\n",
      "32\n",
      "34\n",
      "36\n",
      "38\n",
      "40\n",
      "42\n",
      "44\n",
      "46\n",
      "48\n",
      "50\n",
      "52\n",
      "54\n",
      "56\n",
      "58\n",
      "60\n",
      "62\n",
      "64\n",
      "66\n",
      "68\n",
      "70\n",
      "72\n",
      "74\n",
      "76\n",
      "78\n",
      "80\n",
      "82\n",
      "84\n",
      "86\n",
      "88\n",
      "90\n",
      "92\n",
      "94\n",
      "96\n",
      "98\n",
      "100\n"
     ]
    }
   ],
   "source": [
    "for num in range(1,101):\n",
    "    if num%2==0:  \n",
    "        print(num)"
   ]
  },
  {
   "cell_type": "code",
   "execution_count": 21,
   "metadata": {},
   "outputs": [],
   "source": [
    "#Problem no: 1060"
   ]
  },
  {
   "cell_type": "code",
   "execution_count": 46,
   "metadata": {},
   "outputs": [
    {
     "name": "stdout",
     "output_type": "stream",
     "text": [
      "7\n",
      "-5\n",
      "6\n",
      "-3.4\n",
      "4.6\n",
      "12\n",
      "4 valores positivos\n"
     ]
    }
   ],
   "source": [
    "a = float(input())\n",
    "b = float(input())\n",
    "c = float(input())\n",
    "d = float(input())\n",
    "e = float(input())\n",
    "f = float(input())\n",
    "\n",
    "list_item = [a, b, c, d, e, f]\n",
    "\n",
    "count = 0\n",
    "\n",
    "for item in list_item:\n",
    "    if item > 0:\n",
    "        count+=1\n",
    "print('%i valores positivos'%count)"
   ]
  },
  {
   "cell_type": "code",
   "execution_count": 22,
   "metadata": {},
   "outputs": [],
   "source": [
    "#Problem no: 1061"
   ]
  },
  {
   "cell_type": "code",
   "execution_count": 7,
   "metadata": {},
   "outputs": [
    {
     "name": "stdout",
     "output_type": "stream",
     "text": [
      "Dia 5\n",
      "08 : 12 : 23\n",
      "Dia 9\n",
      "06 : 13 : 23\n",
      "3 dia(s)\n",
      "22 hora(s)\n",
      "1 minuto(s)\n",
      "0 segundo(s)\n"
     ]
    }
   ],
   "source": [
    "dayinput = input().split()\n",
    "d1 = int(dayinput[1])\n",
    "h1, m1, s1 = list(map(int,input().split(' : ')))\n",
    "\n",
    "dayinput = input().split()\n",
    "d2 = int(dayinput[1])\n",
    "h2, m2, s2 = list(map(int,input().split(' : ')))\n",
    "\n",
    "day = d2 - d1\n",
    "\n",
    "if(day <= 0):\n",
    "    day = 0\n",
    "    \n",
    "hour = h2 - h1\n",
    "\n",
    "if (hour < 0):\n",
    "    hour += 24\n",
    "    day -= 1\n",
    "    \n",
    "minute = m2 - m1\n",
    "\n",
    "if (minute < 0):\n",
    "    minute += 60\n",
    "    hour -= 1\n",
    "\n",
    "second = s2 - s1\n",
    "\n",
    "if (second < 0):\n",
    "    second += 60\n",
    "    minute -= 1\n",
    "    \n",
    "print('%i dia(s)'%day)\n",
    "print('%i hora(s)'%hour)\n",
    "print('%i minuto(s)'%minute)\n",
    "print('%i segundo(s)'%second)"
   ]
  },
  {
   "cell_type": "code",
   "execution_count": 23,
   "metadata": {},
   "outputs": [],
   "source": [
    "#Problem no: 1064"
   ]
  },
  {
   "cell_type": "code",
   "execution_count": 45,
   "metadata": {},
   "outputs": [
    {
     "name": "stdout",
     "output_type": "stream",
     "text": [
      "7\n",
      "-5\n",
      "6\n",
      "-3.4\n",
      "4.6\n",
      "12\n",
      "4 valores positivos\n",
      "7.4\n"
     ]
    }
   ],
   "source": [
    "a = float(input())\n",
    "b = float(input())\n",
    "c = float(input())\n",
    "d = float(input())\n",
    "e = float(input())\n",
    "f = float(input())\n",
    "\n",
    "list_item = [a, b, c, d, e, f]\n",
    "\n",
    "count = 0\n",
    "avg = 0\n",
    "\n",
    "for item in list_item:\n",
    "    if item > 0:\n",
    "        count+=1\n",
    "        avg+=item\n",
    "favg = avg / float(count)\n",
    "print('%i valores positivos'%count)\n",
    "print('%.1f'%favg)"
   ]
  },
  {
   "cell_type": "code",
   "execution_count": 24,
   "metadata": {},
   "outputs": [],
   "source": [
    "#Problem no: 1065"
   ]
  },
  {
   "cell_type": "code",
   "execution_count": 9,
   "metadata": {},
   "outputs": [
    {
     "name": "stdout",
     "output_type": "stream",
     "text": [
      "7\n",
      "-5\n",
      "6\n",
      "-4\n",
      "12\n",
      "3 valores pares\n"
     ]
    }
   ],
   "source": [
    "a = int(input())\n",
    "b = int(input())\n",
    "c = int(input())\n",
    "d = int(input())\n",
    "e = int(input())\n",
    "\n",
    "list_item = [a, b, c, d, e]\n",
    "\n",
    "count = 0\n",
    "\n",
    "for item in list_item:\n",
    "    if (item%2 == 0):\n",
    "        count+=1\n",
    "print('%i valores pares'%count)"
   ]
  },
  {
   "cell_type": "code",
   "execution_count": 25,
   "metadata": {},
   "outputs": [],
   "source": [
    "#Problem no: 1066"
   ]
  },
  {
   "cell_type": "code",
   "execution_count": 10,
   "metadata": {},
   "outputs": [
    {
     "name": "stdout",
     "output_type": "stream",
     "text": [
      "-5\n",
      "0\n",
      "-3\n",
      "-4\n",
      "12\n",
      "3 valor(es) par(es)\n",
      "2 valor(es) impar(es)\n",
      "1 valor(es) positivo(s)\n",
      "3 valor(es) negativo(s)\n"
     ]
    }
   ],
   "source": [
    "a = int(input())\n",
    "b = int(input())\n",
    "c = int(input())\n",
    "d = int(input())\n",
    "e = int(input())\n",
    "\n",
    "list_item = [a, b, c, d, e]\n",
    "\n",
    "count1 = 0\n",
    "count2 = 0\n",
    "count3 = 0\n",
    "count4 = 0\n",
    "\n",
    "for item in list_item:\n",
    "    if (item%2 == 0):\n",
    "        count1 += 1\n",
    "    else:\n",
    "        count2 += 1\n",
    "    \n",
    "    if (item > 0):\n",
    "        count3 += 1\n",
    "    \n",
    "    elif (item < 0):\n",
    "        count4 += 1\n",
    "    \n",
    "print('%i valor(es) par(es)'%count1)\n",
    "print('%i valor(es) impar(es)'%count2)\n",
    "print('%i valor(es) positivo(s)'%count3)\n",
    "print('%i valor(es) negativo(s)'%count4)"
   ]
  },
  {
   "cell_type": "code",
   "execution_count": 11,
   "metadata": {},
   "outputs": [],
   "source": [
    "#Problem no: 1067"
   ]
  },
  {
   "cell_type": "code",
   "execution_count": 16,
   "metadata": {},
   "outputs": [
    {
     "name": "stdout",
     "output_type": "stream",
     "text": [
      "9\n",
      "1\n",
      "3\n",
      "5\n",
      "7\n",
      "9\n"
     ]
    }
   ],
   "source": [
    "X = int(input())\n",
    "\n",
    "for item in range(1, X):\n",
    "    if (item%2 != 0):\n",
    "        print(item)\n",
    "if(X%2 != 0):\n",
    "    print(X)"
   ]
  },
  {
   "cell_type": "code",
   "execution_count": 27,
   "metadata": {},
   "outputs": [],
   "source": [
    "#Problem no: 1070"
   ]
  },
  {
   "cell_type": "code",
   "execution_count": 17,
   "metadata": {},
   "outputs": [
    {
     "name": "stdout",
     "output_type": "stream",
     "text": [
      "8\n",
      "9\n",
      "11\n",
      "13\n",
      "15\n",
      "17\n",
      "19\n"
     ]
    }
   ],
   "source": [
    "X = int(input())\n",
    "\n",
    "count = 0\n",
    "\n",
    "while True:\n",
    "    if(X%2 != 0):\n",
    "        count += 1\n",
    "        print(X)\n",
    "    X += 1\n",
    "    if(count == 6):\n",
    "        break"
   ]
  },
  {
   "cell_type": "code",
   "execution_count": 28,
   "metadata": {},
   "outputs": [],
   "source": [
    "#Problem no: 1071"
   ]
  },
  {
   "cell_type": "code",
   "execution_count": 18,
   "metadata": {},
   "outputs": [
    {
     "name": "stdout",
     "output_type": "stream",
     "text": [
      "6\n",
      "-5\n",
      "5\n"
     ]
    }
   ],
   "source": [
    "#-5+1 = -4 + 1 = -3\n",
    "#6\n",
    "\n",
    "X = int(input())\n",
    "Y = int(input())\n",
    "start = min(X,Y)+1 #-5+1 = -4\n",
    "end = max(X,Y) #6\n",
    "if start % 2 == 0:\n",
    "    start += 1 #-4 + 1 = -3\n",
    "\n",
    "sum = 0\n",
    "for i in range(start, end, 2):\n",
    "    sum += i\n",
    "print(sum)"
   ]
  },
  {
   "cell_type": "code",
   "execution_count": 29,
   "metadata": {},
   "outputs": [],
   "source": [
    "#Problem no: 1072"
   ]
  },
  {
   "cell_type": "code",
   "execution_count": 28,
   "metadata": {},
   "outputs": [
    {
     "name": "stdout",
     "output_type": "stream",
     "text": [
      "4\n",
      "14\n",
      "123\n",
      "10\n",
      "-25\n",
      "2 in\n",
      "2 out\n"
     ]
    }
   ],
   "source": [
    "N = int(input())\n",
    "\n",
    "count1 = 0\n",
    "count2 = 0\n",
    "\n",
    "for item in range(N):\n",
    "    X = int(input())\n",
    "    if(X >= 10 and X <= 20):\n",
    "        count1 += 1\n",
    "    else:\n",
    "        count2 += 1\n",
    "\n",
    "print(\"%d in\" %count1)\n",
    "print(\"%d out\" %count2)"
   ]
  },
  {
   "cell_type": "code",
   "execution_count": 30,
   "metadata": {},
   "outputs": [],
   "source": [
    "#Problem no: 1073"
   ]
  },
  {
   "cell_type": "code",
   "execution_count": 39,
   "metadata": {},
   "outputs": [
    {
     "name": "stdout",
     "output_type": "stream",
     "text": [
      "6\n",
      "2^2 = 4\n",
      "4^2 = 16\n",
      "6^2 = 36\n"
     ]
    }
   ],
   "source": [
    "N = int(input())\n",
    "\n",
    "for item in range(1, N):\n",
    "    if (item%2 == 0):\n",
    "        result = item ** 2\n",
    "        print('{}^2 = {}'.format(item, result))\n",
    "        \n",
    "if(N%2 == 0):\n",
    "    result = N ** 2\n",
    "    print('{}^2 = {}'.format(N, result))"
   ]
  },
  {
   "cell_type": "code",
   "execution_count": 41,
   "metadata": {},
   "outputs": [
    {
     "name": "stdout",
     "output_type": "stream",
     "text": [
      "6\n",
      "2^2 = 4\n",
      "4^2 = 16\n",
      "6^2 = 36\n"
     ]
    }
   ],
   "source": [
    "#Alternative Solution: 1073\n",
    "  \n",
    "n= int(input())\n",
    "for i in range(1,n+1):\n",
    "    if(i%2==0):\n",
    "        print(\"{}^{} = {}\".format(i,2,pow(i,2)))"
   ]
  },
  {
   "cell_type": "code",
   "execution_count": 31,
   "metadata": {},
   "outputs": [],
   "source": [
    "#Problem no: 1074"
   ]
  },
  {
   "cell_type": "code",
   "execution_count": 44,
   "metadata": {},
   "outputs": [
    {
     "name": "stdout",
     "output_type": "stream",
     "text": [
      "4\n",
      "-5\n",
      "ODD NEGATIVE\n",
      "0\n",
      "NULL\n",
      "3\n",
      "ODD POSITIVE\n",
      "-4\n",
      "EVEN NEGATIVE\n"
     ]
    }
   ],
   "source": [
    "N = int(input())\n",
    "\n",
    "for item in range(N):\n",
    "    X = int(input())\n",
    "    if (X == 0):\n",
    "        print('NULL')\n",
    "        \n",
    "    elif (X > 0):\n",
    "        if (X%2 == 0):\n",
    "            print('EVEN POSITIVE')\n",
    "        else:\n",
    "            print('ODD POSITIVE')\n",
    "            \n",
    "    elif (X < 0):\n",
    "        if (X%2 == 0):\n",
    "            print('EVEN NEGATIVE')\n",
    "        else:\n",
    "            print('ODD NEGATIVE')\n",
    "        "
   ]
  }
 ],
 "metadata": {
  "kernelspec": {
   "display_name": "Python 3",
   "language": "python",
   "name": "python3"
  },
  "language_info": {
   "codemirror_mode": {
    "name": "ipython",
    "version": 3
   },
   "file_extension": ".py",
   "mimetype": "text/x-python",
   "name": "python",
   "nbconvert_exporter": "python",
   "pygments_lexer": "ipython3",
   "version": "3.7.6"
  }
 },
 "nbformat": 4,
 "nbformat_minor": 4
}
