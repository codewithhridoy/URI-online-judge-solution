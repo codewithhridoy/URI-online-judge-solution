{
 "cells": [
  {
   "cell_type": "markdown",
   "metadata": {},
   "source": [
    "    Data Structure and Algorithm practice from the book of Md. Mahbubul Hasan"
   ]
  },
  {
   "cell_type": "code",
   "execution_count": null,
   "metadata": {},
   "outputs": [],
   "source": [
    "'''\n",
    "\n",
    "Hridoy Ahmed\n",
    "Daffodil International University\n",
    "Dept. of Computer Science & Engineering\n",
    "Email: hridoy15-7981@diu.edu.bd\n",
    "Facebook Profile: https://web.facebook.com/HridoyAhmedCSE\n",
    "\n",
    "'''"
   ]
  },
  {
   "cell_type": "markdown",
   "metadata": {},
   "source": [
    "#### Chapter:2.1 "
   ]
  },
  {
   "cell_type": "code",
   "execution_count": 7,
   "metadata": {},
   "outputs": [],
   "source": [
    "#Simple Code: 2.1"
   ]
  },
  {
   "cell_type": "code",
   "execution_count": 8,
   "metadata": {},
   "outputs": [
    {
     "name": "stdout",
     "output_type": "stream",
     "text": [
      "8\n"
     ]
    }
   ],
   "source": [
    "print(6+2)"
   ]
  },
  {
   "cell_type": "code",
   "execution_count": 16,
   "metadata": {},
   "outputs": [],
   "source": [
    "#Simple Input: 2.2"
   ]
  },
  {
   "cell_type": "code",
   "execution_count": 11,
   "metadata": {},
   "outputs": [
    {
     "name": "stdout",
     "output_type": "stream",
     "text": [
      "Hridoy\n",
      "5\n",
      "6\n",
      "Sum = 11\n"
     ]
    }
   ],
   "source": [
    "name = input()\n",
    "a = int(input())\n",
    "b = float(input())\n",
    "\n",
    "c = a+b\n",
    "\n",
    "print('Sum = %i'%c)"
   ]
  },
  {
   "cell_type": "code",
   "execution_count": 12,
   "metadata": {},
   "outputs": [],
   "source": [
    "#Timus 1000"
   ]
  },
  {
   "cell_type": "code",
   "execution_count": null,
   "metadata": {},
   "outputs": [],
   "source": []
  },
  {
   "cell_type": "code",
   "execution_count": 13,
   "metadata": {},
   "outputs": [],
   "source": [
    "#Timus 1264"
   ]
  },
  {
   "cell_type": "code",
   "execution_count": null,
   "metadata": {},
   "outputs": [],
   "source": []
  },
  {
   "cell_type": "code",
   "execution_count": 14,
   "metadata": {},
   "outputs": [],
   "source": [
    "#Timus 1293"
   ]
  },
  {
   "cell_type": "code",
   "execution_count": null,
   "metadata": {},
   "outputs": [],
   "source": []
  },
  {
   "cell_type": "code",
   "execution_count": 15,
   "metadata": {},
   "outputs": [],
   "source": [
    "#Timus 1409"
   ]
  },
  {
   "cell_type": "code",
   "execution_count": null,
   "metadata": {},
   "outputs": [],
   "source": []
  },
  {
   "cell_type": "markdown",
   "metadata": {},
   "source": [
    "#### Chapter: 2.2"
   ]
  },
  {
   "cell_type": "code",
   "execution_count": 17,
   "metadata": {},
   "outputs": [],
   "source": [
    "#Circle Area : 2.3"
   ]
  },
  {
   "cell_type": "code",
   "execution_count": 23,
   "metadata": {},
   "outputs": [
    {
     "name": "stdout",
     "output_type": "stream",
     "text": [
      "8\n",
      "Area of radius 8.00 = 201.06\n"
     ]
    }
   ],
   "source": [
    "pi = 3.14159\n",
    "\n",
    "r = float(input())\n",
    "\n",
    "area = pi * r * r\n",
    "\n",
    "print('Area of radius %.2f = %.2f'%(r, area))\n"
   ]
  },
  {
   "cell_type": "code",
   "execution_count": 60,
   "metadata": {},
   "outputs": [],
   "source": [
    "#Problem: 1 Distance"
   ]
  },
  {
   "cell_type": "code",
   "execution_count": 25,
   "metadata": {},
   "outputs": [
    {
     "name": "stdout",
     "output_type": "stream",
     "text": [
      "4\n",
      "7\n",
      "Distance = 3\n"
     ]
    }
   ],
   "source": [
    "x = int(input())\n",
    "y = int(input())\n",
    "\n",
    "distance = abs(x - y)\n",
    "\n",
    "print('Distance = %i'%distance)"
   ]
  },
  {
   "cell_type": "code",
   "execution_count": 61,
   "metadata": {},
   "outputs": [],
   "source": [
    "#Problem: 2 Angle of triangle"
   ]
  },
  {
   "cell_type": "code",
   "execution_count": 28,
   "metadata": {},
   "outputs": [
    {
     "name": "stdout",
     "output_type": "stream",
     "text": [
      "2 3 4\n",
      "Angle of A = 126.00\n",
      "Angle of B = 44.00\n",
      "Angle of C = -9.00\n"
     ]
    }
   ],
   "source": [
    "a, b, c = list(map(float, input().split()))\n",
    "\n",
    "angleA = (b*b + c*c - a*a) / 2*b*c\n",
    "\n",
    "angleB = (a*a + c*c - b*b) / 2*a*c\n",
    "\n",
    "angleC = (a*a + b*b - c*c) / 2*a*b\n",
    "\n",
    "print('Angle of A = %.2f' %angleA)\n",
    "print('Angle of B = %.2f' %angleB)\n",
    "print('Angle of C = %.2f' %angleC)"
   ]
  },
  {
   "cell_type": "code",
   "execution_count": 62,
   "metadata": {},
   "outputs": [],
   "source": [
    "#Problem : 3 Area of triangle from given 3 sides"
   ]
  },
  {
   "cell_type": "code",
   "execution_count": 36,
   "metadata": {},
   "outputs": [
    {
     "name": "stdout",
     "output_type": "stream",
     "text": [
      "3 3 4\n",
      "Area of triangle = 4.47\n"
     ]
    }
   ],
   "source": [
    "a, b, c = list(map(float, input().split()))\n",
    "\n",
    "s = (a+b+c) / 2\n",
    "\n",
    "area = s*(s-a)*(s-b)*(s-c)\n",
    "\n",
    "area = pow(area, 0.5)\n",
    "print(\"Area of triangle = %.2f\" %area)"
   ]
  },
  {
   "cell_type": "code",
   "execution_count": 63,
   "metadata": {},
   "outputs": [],
   "source": [
    "#Problem : 4 Circumferance of circle"
   ]
  },
  {
   "cell_type": "code",
   "execution_count": 38,
   "metadata": {},
   "outputs": [
    {
     "name": "stdout",
     "output_type": "stream",
     "text": [
      "4\n",
      "Circumferance of radius 4.00 = 25.13\n"
     ]
    }
   ],
   "source": [
    "pi = 3.14159;\n",
    "\n",
    "r = float(input())\n",
    "\n",
    "cir = 2 * pi * r\n",
    "\n",
    "print('Circumferance of radius %.2f = %.2f' %(r, cir))"
   ]
  },
  {
   "cell_type": "code",
   "execution_count": 64,
   "metadata": {},
   "outputs": [],
   "source": [
    "#Problem : 5 Nearest Integer of num's square root"
   ]
  },
  {
   "cell_type": "code",
   "execution_count": 41,
   "metadata": {},
   "outputs": [
    {
     "name": "stdout",
     "output_type": "stream",
     "text": [
      "600\n",
      "Nearest Integer of square root of 600 = 24\n"
     ]
    }
   ],
   "source": [
    "num = int(input())\n",
    "\n",
    "a = pow(num, 0.5)\n",
    "b = a + 1\n",
    "\n",
    "diff1 = (pow(a, 2) - num)\n",
    "diff2 = (pow(b, 2) - num)\n",
    "\n",
    "if diff1<diff2:\n",
    "    print('Nearest Integer of square root of %i = %i' %(num,a))\n",
    "    \n",
    "else:\n",
    "    print('Nearest Integer of square root of %i = %i' %(num,b))"
   ]
  },
  {
   "cell_type": "code",
   "execution_count": 65,
   "metadata": {},
   "outputs": [],
   "source": [
    "#Problem : 6 area from the peak value"
   ]
  },
  {
   "cell_type": "code",
   "execution_count": 43,
   "metadata": {},
   "outputs": [
    {
     "name": "stdout",
     "output_type": "stream",
     "text": [
      "Enter X1, Y1\n",
      "2 3\n",
      "Enter X2, Y2\n",
      "3 4\n",
      "Enter X3, Y3\n",
      "5 6\n",
      "Area = 5.00\n"
     ]
    }
   ],
   "source": [
    "#A(x1,y1); B(x2,y2); C(x3,y3)\n",
    "\n",
    "print('Enter X1, Y1')\n",
    "x1,y1 = list(map(float, input().split()))\n",
    "\n",
    "print('Enter X2, Y2')\n",
    "x2,y2 = list(map(float, input().split()))\n",
    "\n",
    "print('Enter X3, Y3')\n",
    "x3,y3 = list(map(float, input().split()))\n",
    "\n",
    "\n",
    "area = (1/2) * ((x1*(y3-y1)) + (x2*(y3-y1)) + (x3*(y1-y2)))\n",
    "\n",
    "print('Area = %.2f' %area)"
   ]
  },
  {
   "cell_type": "markdown",
   "metadata": {},
   "source": [
    "#### Chapter: 2.3"
   ]
  },
  {
   "cell_type": "code",
   "execution_count": 44,
   "metadata": {},
   "outputs": [],
   "source": [
    "#Odd Even : 2.5"
   ]
  },
  {
   "cell_type": "code",
   "execution_count": 45,
   "metadata": {},
   "outputs": [
    {
     "name": "stdout",
     "output_type": "stream",
     "text": [
      "45\n",
      "45 is Odd\n"
     ]
    }
   ],
   "source": [
    "num = int(input())\n",
    "\n",
    "if(num%2==0):\n",
    "    print('%i is Even'%num)\n",
    "else:\n",
    "    print('%i is Odd'%num)"
   ]
  },
  {
   "cell_type": "code",
   "execution_count": 46,
   "metadata": {},
   "outputs": [],
   "source": [
    "#Leap Year : 2.6"
   ]
  },
  {
   "cell_type": "code",
   "execution_count": 57,
   "metadata": {},
   "outputs": [
    {
     "name": "stdout",
     "output_type": "stream",
     "text": [
      "2016\n",
      "2016 is Leap Year\n"
     ]
    }
   ],
   "source": [
    "year = int(input())\n",
    "\n",
    "if(year%400 == 0):\n",
    "    print('%i is Leap Year' %year)\n",
    "elif(year%4 == 0):\n",
    "    print('%i is Leap Year' %year)\n",
    "elif(year%100 == 0):\n",
    "    print('%i isn\\'t Leap Year' %year)\n",
    "else:\n",
    "    print('%i isn\\'t Leap Year' %year)"
   ]
  },
  {
   "cell_type": "code",
   "execution_count": 47,
   "metadata": {},
   "outputs": [],
   "source": [
    "#Leap Year(ARITHMATIC) : 2.7"
   ]
  },
  {
   "cell_type": "code",
   "execution_count": 58,
   "metadata": {},
   "outputs": [
    {
     "name": "stdout",
     "output_type": "stream",
     "text": [
      "2020\n",
      "2020 is Leap Year\n"
     ]
    }
   ],
   "source": [
    "year = int(input())\n",
    "\n",
    "if(year%400 == 0 or (year%4 == 0 and year%100 != 0)):\n",
    "    print('%i is Leap Year' %year)\n",
    "else:\n",
    "    print('%i isn\\'t Leap Year' %year)"
   ]
  },
  {
   "cell_type": "code",
   "execution_count": 66,
   "metadata": {},
   "outputs": [],
   "source": [
    "#Problem: 1 Palindrome"
   ]
  },
  {
   "cell_type": "code",
   "execution_count": 88,
   "metadata": {},
   "outputs": [
    {
     "name": "stdout",
     "output_type": "stream",
     "text": [
      "7878787878787878787\n",
      "7878787878787878787 is Palindrome\n"
     ]
    }
   ],
   "source": [
    "num = input()\n",
    "\n",
    "if(num[:] == num[::-1]):\n",
    "    print('%s is Palindrome'%num)\n",
    "else:\n",
    "    print('%s is Not Palindrome' %num)"
   ]
  },
  {
   "cell_type": "code",
   "execution_count": 89,
   "metadata": {},
   "outputs": [],
   "source": [
    "#Problem: 2 Sum"
   ]
  },
  {
   "cell_type": "code",
   "execution_count": null,
   "metadata": {},
   "outputs": [],
   "source": []
  },
  {
   "cell_type": "code",
   "execution_count": 90,
   "metadata": {},
   "outputs": [],
   "source": [
    "#Problem:3 Largest number"
   ]
  },
  {
   "cell_type": "code",
   "execution_count": 95,
   "metadata": {},
   "outputs": [
    {
     "name": "stdout",
     "output_type": "stream",
     "text": [
      "How many inputs do you want to check?\n",
      "2\n",
      "Take 2 input\n",
      "100\n",
      "12\n",
      "Largest number = 100\n"
     ]
    }
   ],
   "source": [
    "print('How many inputs do you want to check?')\n",
    "num = int(input())\n",
    "item_list = []\n",
    "print('Take %i input'%num)\n",
    "for item in range(num):\n",
    "    new_input = int(input())\n",
    "    item_list.append(new_input)\n",
    "print('Largest number = %i'%(max(item_list)))"
   ]
  },
  {
   "cell_type": "code",
   "execution_count": 96,
   "metadata": {},
   "outputs": [],
   "source": [
    "#Second largest Number"
   ]
  },
  {
   "cell_type": "code",
   "execution_count": 3,
   "metadata": {},
   "outputs": [
    {
     "name": "stdout",
     "output_type": "stream",
     "text": [
      "How many inputs do you want to check?\n",
      "5\n",
      "Take 5 input\n",
      "2\n",
      "4\n",
      "1\n",
      "3\n",
      "5\n",
      "Largest number = 4\n"
     ]
    }
   ],
   "source": [
    "print('How many inputs do you want to check?')\n",
    "num = int(input())\n",
    "item_list = []\n",
    "print('Take %i input'%num)\n",
    "for item in range(num):\n",
    "    new_input = int(input())\n",
    "    item_list.append(new_input)\n",
    "item_list.sort()\n",
    "print('Largest number = %i'%(item_list[-2]))"
   ]
  },
  {
   "cell_type": "code",
   "execution_count": 1,
   "metadata": {},
   "outputs": [],
   "source": [
    "#Smallest number"
   ]
  },
  {
   "cell_type": "code",
   "execution_count": 2,
   "metadata": {},
   "outputs": [
    {
     "name": "stdout",
     "output_type": "stream",
     "text": [
      "How many inputs do you want to check?\n",
      "5\n",
      "Take 5 input\n",
      "1\n",
      "2\n",
      "3\n",
      "5\n",
      "4\n",
      "Largest number = 1\n"
     ]
    }
   ],
   "source": [
    "print('How many inputs do you want to check?')\n",
    "num = int(input())\n",
    "item_list = []\n",
    "print('Take %i input'%num)\n",
    "for item in range(num):\n",
    "    new_input = int(input())\n",
    "    item_list.append(new_input)\n",
    "print('Largest number = %i'%(min(item_list)))"
   ]
  },
  {
   "cell_type": "code",
   "execution_count": 4,
   "metadata": {},
   "outputs": [],
   "source": [
    "#Second Smallest number"
   ]
  },
  {
   "cell_type": "code",
   "execution_count": 2,
   "metadata": {},
   "outputs": [
    {
     "name": "stdout",
     "output_type": "stream",
     "text": [
      "How many inputs do you want to check?\n",
      "5\n",
      "Take 5 input\n",
      "4\n",
      "3\n",
      "2\n",
      "1\n",
      "5\n",
      "Second Smallest number = 2\n"
     ]
    }
   ],
   "source": [
    "print('How many inputs do you want to check?')\n",
    "num = int(input())\n",
    "item_list = []\n",
    "print('Take %i input'%num)\n",
    "for item in range(num):\n",
    "    new_input = int(input())\n",
    "    item_list.append(new_input)\n",
    "item_list.sort()\n",
    "print('Second Smallest number = %i'%(item_list[1]))"
   ]
  },
  {
   "cell_type": "code",
   "execution_count": 3,
   "metadata": {},
   "outputs": [],
   "source": [
    "#Problem: 4 Ascending Order"
   ]
  },
  {
   "cell_type": "code",
   "execution_count": 8,
   "metadata": {},
   "outputs": [
    {
     "name": "stdout",
     "output_type": "stream",
     "text": [
      "1 4 2\n",
      "Ascending order = [1, 2, 4]\n"
     ]
    }
   ],
   "source": [
    "x, y, z = list(map(int, input().split()))\n",
    "\n",
    "item_list= []\n",
    "\n",
    "item_list.append(x)\n",
    "item_list.append(y)\n",
    "item_list.append(z)\n",
    "\n",
    "item_list.sort()\n",
    "\n",
    "print('Ascending order = %a' %item_list)"
   ]
  },
  {
   "cell_type": "code",
   "execution_count": 9,
   "metadata": {},
   "outputs": [],
   "source": [
    "#Problem: 5 Quadrant"
   ]
  },
  {
   "cell_type": "code",
   "execution_count": 18,
   "metadata": {},
   "outputs": [
    {
     "name": "stdout",
     "output_type": "stream",
     "text": [
      "Enter your Quadrant (x, y) :\n",
      "5 -4\n",
      "(5.0, -4.0) is in Fourth Quadrant [+,-]\n"
     ]
    }
   ],
   "source": [
    "print('Enter your Quadrant (x, y) :')\n",
    "x, y = list(map(float, input().split()))\n",
    "\n",
    "if(x==0 and y==0):\n",
    "    print('(%i, %i) is in Origin' %(x, y))\n",
    "    \n",
    "elif(x>0 and y>0):\n",
    "    print('(%.1f, %.1f) is in First Quadrant [+,+]' %(x, y))\n",
    "    \n",
    "elif(x<0 and y>0):\n",
    "    print('(%.1f, %.1f) is in Second Quadrant [-,+]' %(x, y))\n",
    "\n",
    "elif(x<0 and y<0):\n",
    "    print('(%.1f, %.1f) is in Third Quadrant [-,-]' %(x, y))\n",
    "else:\n",
    "    print('(%.1f, %.1f) is in Fourth Quadrant [+,-]' %(x, y))"
   ]
  },
  {
   "cell_type": "code",
   "execution_count": 19,
   "metadata": {},
   "outputs": [],
   "source": [
    "#Timus 1068"
   ]
  },
  {
   "cell_type": "code",
   "execution_count": null,
   "metadata": {},
   "outputs": [],
   "source": []
  },
  {
   "cell_type": "markdown",
   "metadata": {},
   "source": [
    "#### Chapter : 2.4"
   ]
  },
  {
   "cell_type": "code",
   "execution_count": 20,
   "metadata": {},
   "outputs": [],
   "source": [
    "#Code: 2.8 Simple Loop"
   ]
  },
  {
   "cell_type": "code",
   "execution_count": 21,
   "metadata": {},
   "outputs": [
    {
     "name": "stdout",
     "output_type": "stream",
     "text": [
      "1\n",
      "2\n",
      "3\n",
      "4\n",
      "5\n",
      "6\n",
      "7\n",
      "8\n",
      "9\n",
      "10\n"
     ]
    }
   ],
   "source": [
    "for item in range(1, 11):\n",
    "    print(item)"
   ]
  },
  {
   "cell_type": "code",
   "execution_count": 25,
   "metadata": {},
   "outputs": [
    {
     "name": "stdout",
     "output_type": "stream",
     "text": [
      "10\n",
      "9\n",
      "8\n",
      "7\n",
      "6\n",
      "5\n",
      "4\n",
      "3\n",
      "2\n",
      "1\n"
     ]
    }
   ],
   "source": [
    "#start:end:stepover\n",
    "for item in range(10,0,-1):\n",
    "    print(item)"
   ]
  },
  {
   "cell_type": "code",
   "execution_count": 26,
   "metadata": {},
   "outputs": [
    {
     "name": "stdout",
     "output_type": "stream",
     "text": [
      "1\n",
      "3\n",
      "5\n",
      "7\n",
      "9\n"
     ]
    }
   ],
   "source": [
    "#print odd from 1 to 10\n",
    "\n",
    "for item in range (1, 11):\n",
    "    if(item%2!=0):\n",
    "        print(item)"
   ]
  },
  {
   "cell_type": "code",
   "execution_count": 2,
   "metadata": {},
   "outputs": [
    {
     "name": "stdout",
     "output_type": "stream",
     "text": [
      "10\n",
      "12\n",
      "14\n"
     ]
    }
   ],
   "source": [
    "#print 10 12 14\n",
    "\n",
    "i = 5\n",
    "\n",
    "while(i <= 7):\n",
    "    print(i * 2)\n",
    "    i += 1 "
   ]
  },
  {
   "cell_type": "code",
   "execution_count": 3,
   "metadata": {},
   "outputs": [],
   "source": [
    "#Code: 2.9 Simple loop 2 "
   ]
  },
  {
   "cell_type": "code",
   "execution_count": 5,
   "metadata": {},
   "outputs": [
    {
     "name": "stdout",
     "output_type": "stream",
     "text": [
      "2\n"
     ]
    }
   ],
   "source": [
    "#Count how many 2 divides 100\n",
    "#100/2 = 50/2 = 25\n",
    "\n",
    "x = 100\n",
    "count = 0\n",
    "\n",
    "while(x%2==0):\n",
    "    x /= 2\n",
    "    count += 1\n",
    "print(count)"
   ]
  },
  {
   "cell_type": "code",
   "execution_count": 1,
   "metadata": {},
   "outputs": [
    {
     "name": "stdout",
     "output_type": "stream",
     "text": [
      "1\n",
      "2\n",
      "4\n",
      "8\n",
      "16\n",
      "32\n",
      "64\n",
      "128\n",
      "256\n"
     ]
    }
   ],
   "source": [
    "#Find out the highest number which is power of 2 and less than 1000\n",
    "\n",
    "x = 1\n",
    "while(x*2 < 1000):\n",
    "    print(x)\n",
    "    x *= 2"
   ]
  },
  {
   "cell_type": "code",
   "execution_count": 2,
   "metadata": {},
   "outputs": [],
   "source": [
    "#Code: 2.10 Simple loop 3"
   ]
  },
  {
   "cell_type": "code",
   "execution_count": 5,
   "metadata": {},
   "outputs": [
    {
     "name": "stdout",
     "output_type": "stream",
     "text": [
      "2\n",
      "4\n",
      "6\n",
      "8\n",
      "10\n"
     ]
    }
   ],
   "source": [
    "#Continue\n",
    "\n",
    "for item in range(1, 11):\n",
    "    if(item%2==0):\n",
    "        print(item)\n",
    "        continue"
   ]
  },
  {
   "cell_type": "code",
   "execution_count": 10,
   "metadata": {},
   "outputs": [
    {
     "name": "stdout",
     "output_type": "stream",
     "text": [
      "1\n",
      "2\n",
      "3\n"
     ]
    }
   ],
   "source": [
    "#Break\n",
    "#print 1 2 3\n",
    "for item in range(1, 11):\n",
    "    while(item < 4):\n",
    "        print(item)\n",
    "        break"
   ]
  },
  {
   "cell_type": "code",
   "execution_count": 11,
   "metadata": {},
   "outputs": [],
   "source": [
    "#Code: 2.11 simple loop 4"
   ]
  },
  {
   "cell_type": "code",
   "execution_count": 19,
   "metadata": {},
   "outputs": [
    {
     "name": "stdout",
     "output_type": "stream",
     "text": [
      "10\n",
      "120\n"
     ]
    }
   ],
   "source": [
    "#Nested Loop\n",
    "\n",
    "n = int(input())\n",
    "sum = 0\n",
    "\n",
    "for i in range(n):\n",
    "    for j in range(i):\n",
    "        sum += j\n",
    "print(sum)"
   ]
  },
  {
   "cell_type": "code",
   "execution_count": 20,
   "metadata": {},
   "outputs": [],
   "source": [
    "#Problem: 1(i)"
   ]
  },
  {
   "cell_type": "code",
   "execution_count": 26,
   "metadata": {},
   "outputs": [
    {
     "name": "stdout",
     "output_type": "stream",
     "text": [
      "10\n",
      "55\n"
     ]
    }
   ],
   "source": [
    "sum = 0\n",
    "N = int(input())\n",
    "\n",
    "for item in range(1, N+1):\n",
    "    sum += item\n",
    "print(sum)"
   ]
  },
  {
   "cell_type": "code",
   "execution_count": 24,
   "metadata": {},
   "outputs": [],
   "source": [
    "#Problem: 1(ii)"
   ]
  },
  {
   "cell_type": "code",
   "execution_count": 27,
   "metadata": {},
   "outputs": [
    {
     "name": "stdout",
     "output_type": "stream",
     "text": [
      "3\n",
      "14\n"
     ]
    }
   ],
   "source": [
    "sum = 0\n",
    "N = int(input())\n",
    "\n",
    "for item in range(1, N+1):\n",
    "    sum += item**2\n",
    "print(sum)"
   ]
  },
  {
   "cell_type": "code",
   "execution_count": 28,
   "metadata": {},
   "outputs": [],
   "source": [
    "#Problem: 1(iii)"
   ]
  },
  {
   "cell_type": "code",
   "execution_count": 29,
   "metadata": {},
   "outputs": [
    {
     "name": "stdout",
     "output_type": "stream",
     "text": [
      "3\n",
      "32\n"
     ]
    }
   ],
   "source": [
    "sum = 0\n",
    "count = 1\n",
    "N = int(input())\n",
    "\n",
    "for item in range(1, N+1):\n",
    "    sum += pow(item, count)\n",
    "    count += 1 \n",
    "print(sum)"
   ]
  },
  {
   "cell_type": "code",
   "execution_count": 30,
   "metadata": {},
   "outputs": [],
   "source": [
    "#Problem: 1(iv)"
   ]
  },
  {
   "cell_type": "code",
   "execution_count": 33,
   "metadata": {},
   "outputs": [
    {
     "name": "stdout",
     "output_type": "stream",
     "text": [
      "3\n",
      "18\n"
     ]
    }
   ],
   "source": [
    "sum = 0\n",
    "N = int(input())\n",
    "\n",
    "for i in range(1, N+1):\n",
    "    for j in range(i):\n",
    "        sum = sum + i + j\n",
    "print(sum)"
   ]
  },
  {
   "cell_type": "code",
   "execution_count": null,
   "metadata": {},
   "outputs": [],
   "source": []
  }
 ],
 "metadata": {
  "kernelspec": {
   "display_name": "Python 3",
   "language": "python",
   "name": "python3"
  },
  "language_info": {
   "codemirror_mode": {
    "name": "ipython",
    "version": 3
   },
   "file_extension": ".py",
   "mimetype": "text/x-python",
   "name": "python",
   "nbconvert_exporter": "python",
   "pygments_lexer": "ipython3",
   "version": "3.7.6"
  }
 },
 "nbformat": 4,
 "nbformat_minor": 4
}
