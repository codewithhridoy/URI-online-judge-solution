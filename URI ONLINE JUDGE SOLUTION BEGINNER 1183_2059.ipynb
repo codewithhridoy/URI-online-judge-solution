{
 "cells": [
  {
   "cell_type": "markdown",
   "metadata": {},
   "source": [
    "            URI ONLINE JUDGE SOLUTION - BEGINNER : Problem-1183 to 2059"
   ]
  },
  {
   "cell_type": "code",
   "execution_count": null,
   "metadata": {},
   "outputs": [],
   "source": [
    "'''\n",
    "\n",
    "Hridoy Ahmed\n",
    "Daffodil International University\n",
    "Dept. of Computer Science & Engineering\n",
    "Email: hridoy15-7981@diu.edu.bd\n",
    "Facebook Profile: https://web.facebook.com/HridoyAhmedCSE\n",
    "\n",
    "'''"
   ]
  },
  {
   "cell_type": "code",
   "execution_count": 1,
   "metadata": {},
   "outputs": [],
   "source": [
    "# Probelm no: 1183"
   ]
  },
  {
   "cell_type": "code",
   "execution_count": 21,
   "metadata": {},
   "outputs": [
    {
     "name": "stdout",
     "output_type": "stream",
     "text": [
      "S\n",
      "1\n",
      "2\n",
      "3\n",
      "4\n",
      "9.0\n"
     ]
    }
   ],
   "source": [
    "O = input()\n",
    "add = 0\n",
    "below_dg = 1\n",
    "above_dg = 11\n",
    "count = 0\n",
    "below_dg_count = below_dg\n",
    "above_dg_count = above_dg\n",
    "\n",
    "\n",
    "for item in range(144):\n",
    "    N = float(input())\n",
    "\n",
    "    if(below_dg_count + above_dg_count == 0):\n",
    "        below_dg += 1\n",
    "        above_dg -= 1\n",
    "        below_dg_count = below_dg\n",
    "        above_dg_count = above_dg\n",
    "\n",
    "    if (below_dg_count > 0):\n",
    "        below_dg_count -= 1\n",
    "        continue\n",
    "\n",
    "    if (above_dg_count > 0):\n",
    "        above_dg_count -= 1\n",
    "        add += N\n",
    "        count += 1\n",
    "        continue\n",
    "\n",
    "if(O == 'S'):\n",
    "    print('%.1f' %add)\n",
    "elif(O == 'M'):\n",
    "    print('%.1f' %(add/float(count)))"
   ]
  },
  {
   "cell_type": "code",
   "execution_count": 6,
   "metadata": {},
   "outputs": [],
   "source": [
    "# Probelm no: 1184"
   ]
  },
  {
   "cell_type": "code",
   "execution_count": 2,
   "metadata": {},
   "outputs": [
    {
     "name": "stdout",
     "output_type": "stream",
     "text": [
      "S\n",
      "1\n",
      "2\n",
      "3\n",
      "4\n",
      "0.0\n"
     ]
    }
   ],
   "source": [
    "O = input()\n",
    "add = 0\n",
    "above_dg = 12\n",
    "below_dg = 0\n",
    "count = 0\n",
    "above_dg_count = above_dg\n",
    "below_dg_count = below_dg\n",
    "\n",
    "for item in range(144):\n",
    "    N = float(input())\n",
    "\n",
    "    if(above_dg_count + below_dg_count == 0):\n",
    "        above_dg -= 1\n",
    "        below_dg += 1\n",
    "        above_dg_count = above_dg\n",
    "        below_dg_count = below_dg\n",
    "\n",
    "    if (below_dg_count > 0):\n",
    "        below_dg_count -= 1\n",
    "        add += N\n",
    "        count += 1\n",
    "        continue\n",
    "\n",
    "    if (above_dg_count > 0):\n",
    "        above_dg_count -= 1\n",
    "        continue\n",
    "\n",
    "if(O == 'S'):\n",
    "    print('%.1f' %add)\n",
    "elif(O == 'M'):\n",
    "    print('%.1f' %(add/float(count)))"
   ]
  },
  {
   "cell_type": "code",
   "execution_count": 3,
   "metadata": {},
   "outputs": [],
   "source": [
    "# Probelm no: 1185"
   ]
  },
  {
   "cell_type": "code",
   "execution_count": 4,
   "metadata": {},
   "outputs": [
    {
     "name": "stdout",
     "output_type": "stream",
     "text": [
      "S\n",
      "1\n",
      "2\n",
      "3\n",
      "4\n",
      "10.0\n"
     ]
    }
   ],
   "source": [
    "O = input()\n",
    "add = 0\n",
    "bottom = 1\n",
    "top = 11\n",
    "count = 0\n",
    "bottom_count = bottom\n",
    "top_count = top\n",
    "\n",
    "for item in range(144):\n",
    "    N = float(input())\n",
    "\n",
    "    if (top_count > 0):\n",
    "        top_count -= 1\n",
    "        add += N\n",
    "        count += 1\n",
    "        continue\n",
    "\n",
    "    if (bottom_count > 0):\n",
    "        bottom_count -= 1\n",
    "        continue\n",
    "\n",
    "    if(bottom_count + top_count == 0):\n",
    "        bottom += 1\n",
    "        top -= 1\n",
    "        bottom_count = bottom\n",
    "        top_count = top\n",
    "\n",
    "if(O == 'S'):\n",
    "    print('%.1f' %add)\n",
    "elif(O == 'M'):\n",
    "    print('%.1f' %(add/float(count)))"
   ]
  },
  {
   "cell_type": "code",
   "execution_count": 5,
   "metadata": {},
   "outputs": [],
   "source": [
    "# Probelm no: 1186"
   ]
  },
  {
   "cell_type": "code",
   "execution_count": 7,
   "metadata": {},
   "outputs": [
    {
     "name": "stdout",
     "output_type": "stream",
     "text": [
      "S\n",
      "1\n",
      "2\n",
      "3\n",
      "4\n",
      "0.0\n"
     ]
    }
   ],
   "source": [
    "O = input()\n",
    "add = 0\n",
    "top = 10\n",
    "bottom = 1\n",
    "count = 0\n",
    "top_count = top\n",
    "bottom_count = bottom\n",
    "temp = 23 #diagonal(12)+first_row(11)=23 \n",
    "\n",
    "for item in range(144):\n",
    "    N = float(input())\n",
    "\n",
    "    if(temp > 0):\n",
    "        temp -= 1\n",
    "        continue\n",
    "\n",
    "    if(top_count + bottom_count == 0):\n",
    "        top -= 1\n",
    "        bottom += 1\n",
    "        top_count = top\n",
    "        bottom_count = bottom\n",
    "\n",
    "    if (bottom_count > 0):\n",
    "        bottom_count -= 1\n",
    "        add += N\n",
    "        count += 1\n",
    "        continue\n",
    "\n",
    "    if (top_count > 0):\n",
    "        top_count -= 1\n",
    "        continue\n",
    "        \n",
    "if(O == 'S'):\n",
    "    print('%.1f' %add)\n",
    "elif(O == 'M'):\n",
    "    print('%.1f' %(add/float(count)))"
   ]
  },
  {
   "cell_type": "code",
   "execution_count": 8,
   "metadata": {},
   "outputs": [],
   "source": [
    "# Probelm no: 1187"
   ]
  },
  {
   "cell_type": "code",
   "execution_count": 9,
   "metadata": {},
   "outputs": [
    {
     "name": "stdout",
     "output_type": "stream",
     "text": [
      "S\n",
      "2\n",
      "1\n",
      "1\n",
      "1\n",
      "1\n",
      "1\n",
      "1\n",
      "1\n",
      "1\n",
      "1\n",
      "1\n",
      "2\n",
      "3\n",
      "4\n",
      "1\n",
      "1\n",
      "12.0\n"
     ]
    }
   ],
   "source": [
    "O = input()\n",
    "add = 0\n",
    "other = 1\n",
    "top = 10\n",
    "\n",
    "count = 0\n",
    "other_count = other\n",
    "top_count = top\n",
    "\n",
    "for item in range(144):\n",
    "    N = float(input())\n",
    "\n",
    "    if(other_count + top_count == 0):\n",
    "        other += 2\n",
    "        top -= 2\n",
    "        other_count = other\n",
    "        top_count = top\n",
    "\n",
    "    if (other_count > 0):\n",
    "        other_count -= 1\n",
    "        continue\n",
    "\n",
    "    if (top_count > 0):\n",
    "        top_count -= 1\n",
    "        add += N\n",
    "        count += 1\n",
    "        continue\n",
    "\n",
    "if(O == 'S'):\n",
    "    print('%.1f' %add)\n",
    "elif(O == 'M'):\n",
    "    print('%.1f' %(add/float(count)))\n"
   ]
  },
  {
   "cell_type": "code",
   "execution_count": 10,
   "metadata": {},
   "outputs": [],
   "source": [
    "# Probelm no: 1188"
   ]
  },
  {
   "cell_type": "code",
   "execution_count": 15,
   "metadata": {},
   "outputs": [
    {
     "name": "stdout",
     "output_type": "stream",
     "text": [
      "S\n",
      "1\n",
      "2\n",
      "3\n",
      "4\n",
      "0.0\n"
     ]
    }
   ],
   "source": [
    "O = input()\n",
    "add = 0\n",
    "white = 9\n",
    "green = 2\n",
    "\n",
    "count = 0\n",
    "white_count = white\n",
    "green_count = green\n",
    "\n",
    "for item in range(144):\n",
    "    N = float(input())\n",
    "\n",
    "    if item < 89:\n",
    "        continue\n",
    "\n",
    "    if(white_count + entra == 0):\n",
    "        white -= 2\n",
    "        green += 2\n",
    "        white_count = white\n",
    "        green_count = green\n",
    "\n",
    "    if (green_count > 0):\n",
    "        green_count -= 1\n",
    "        add += N\n",
    "        count += 1\n",
    "        continue\n",
    "\n",
    "    if (white_count > 0):\n",
    "        white_count -= 1\n",
    "        continue\n",
    "\n",
    "if(O == 'S'):\n",
    "    print('%.1f' %add)\n",
    "elif(O == 'M'):\n",
    "    print('%.1f' %(add/float(count)))"
   ]
  },
  {
   "cell_type": "code",
   "execution_count": 16,
   "metadata": {},
   "outputs": [],
   "source": [
    "# Probelm no: 1189"
   ]
  },
  {
   "cell_type": "code",
   "execution_count": 18,
   "metadata": {},
   "outputs": [
    {
     "name": "stdout",
     "output_type": "stream",
     "text": [
      "S\n",
      "1\n",
      "2\n",
      "3\n",
      "4\n",
      "5\n",
      "6\n",
      "7\n",
      "8\n",
      "9\n",
      "10\n",
      "11\n",
      "12\n",
      "13\n",
      "13.0\n"
     ]
    }
   ],
   "source": [
    "O = input()\n",
    "add = 0\n",
    "white = 12\n",
    "green = 0\n",
    "max = False\n",
    "\n",
    "count = 0\n",
    "white_count = white\n",
    "green_count = green\n",
    "\n",
    "\n",
    "for item in range(144):\n",
    "    N = float(input())\n",
    "\n",
    "    if (max):\n",
    "        if(white_count + entra == 0):\n",
    "            white += 1\n",
    "            green -= 1\n",
    "            white_count = white\n",
    "            green_count = green\n",
    "\n",
    "        if (green_count > 0):\n",
    "            green_count -= 1\n",
    "            add += N\n",
    "            count += 1\n",
    "            continue\n",
    "\n",
    "        if (white_count > 0):\n",
    "            white_count -= 1\n",
    "            continue\n",
    "    else:\n",
    "        if(white_count + green_count == 0):\n",
    "            white -= 1\n",
    "            green += 1\n",
    "            white_count = white\n",
    "            green_count = green\n",
    "\n",
    "        if (green_count > 0):\n",
    "            if(green_count == 6):\n",
    "                max = True\n",
    "                green_count -= 1\n",
    "                white_count += 1\n",
    "                green -= 1\n",
    "                white += 1\n",
    "\n",
    "            green_count -= 1\n",
    "            add += N\n",
    "            count += 1\n",
    "            continue\n",
    "\n",
    "        if (white_count > 0):\n",
    "            white_count -= 1\n",
    "            continue\n",
    "            \n",
    "if(O == 'S'):\n",
    "    print('%.1f' %add)\n",
    "elif(O == 'M'):\n",
    "    print('%.1f' %(add/float(count)))\n"
   ]
  },
  {
   "cell_type": "code",
   "execution_count": 19,
   "metadata": {},
   "outputs": [],
   "source": [
    "# Probelm no: 1190"
   ]
  },
  {
   "cell_type": "code",
   "execution_count": 20,
   "metadata": {},
   "outputs": [
    {
     "name": "stdout",
     "output_type": "stream",
     "text": [
      "S\n",
      "1\n",
      "1\n",
      "1\n",
      "1\n",
      "0.0\n"
     ]
    }
   ],
   "source": [
    "O = input()\n",
    "add = 0\n",
    "white = 10\n",
    "green = 1\n",
    "max = False\n",
    "\n",
    "count = 0\n",
    "white_count = white\n",
    "green_count = green\n",
    "\n",
    "\n",
    "for item in range(144):\n",
    "    N = float(input())\n",
    "\n",
    "    if(item < 23):\n",
    "        continue\n",
    "\n",
    "    if (max):\n",
    "        if(white_count + green_count == 0):\n",
    "            white += 1\n",
    "            green -= 1\n",
    "\n",
    "            if(item == 79):\n",
    "                green = 5\n",
    "\n",
    "            white_count = white\n",
    "            green_count = green\n",
    "\n",
    "        if (green_count > 0):\n",
    "            green_count -= 1\n",
    "            add += N\n",
    "            count += 1\n",
    "            continue\n",
    "\n",
    "        if (white_count > 0):\n",
    "            white_count -= 1\n",
    "            continue\n",
    "\n",
    "        break\n",
    "    else:\n",
    "        if(white_count + green_count == 0):\n",
    "            white -= 1\n",
    "            green += 1\n",
    "            white_count = white\n",
    "            green_count = green\n",
    "\n",
    "        if (green_count > 0):\n",
    "            if(green_count == 5):\n",
    "                max = True\n",
    "                green = 5\n",
    "                white = 7\n",
    "                white_count = white\n",
    "\n",
    "            green_count -= 1\n",
    "            add += N\n",
    "            count += 1\n",
    "            continue\n",
    "\n",
    "        if (white_count > 0):\n",
    "            white_count -= 1\n",
    "            continue\n",
    "\n",
    "if(O == 'S'):\n",
    "    print('%.1f' %add)\n",
    "elif(O == 'M'):\n",
    "    print('%.1f' %(add/float(count)))\n",
    "    "
   ]
  },
  {
   "cell_type": "code",
   "execution_count": 1,
   "metadata": {},
   "outputs": [],
   "source": [
    "# Probelm no: 1435"
   ]
  },
  {
   "cell_type": "code",
   "execution_count": 6,
   "metadata": {},
   "outputs": [
    {
     "name": "stdout",
     "output_type": "stream",
     "text": [
      "1\n",
      "  1\n",
      "\n",
      "2\n",
      "  1   1\n",
      "  1   1\n",
      "\n",
      "3\n",
      "  1   1   1\n",
      "  1   2   1\n",
      "  1   1   1\n",
      "\n",
      "4\n",
      "  1   1   1   1\n",
      "  1   2   2   1\n",
      "  1   2   2   1\n",
      "  1   1   1   1\n",
      "\n",
      "5\n",
      "  1   1   1   1   1\n",
      "  1   2   2   2   1\n",
      "  1   2   3   2   1\n",
      "  1   2   2   2   1\n",
      "  1   1   1   1   1\n",
      "\n",
      "0\n"
     ]
    }
   ],
   "source": [
    "while True:\n",
    "    N = int(input())\n",
    "\n",
    "    if (N == 0):\n",
    "        break\n",
    "\n",
    "    item_list =  []\n",
    "\n",
    "    for item in range(N):\n",
    "        temp = []\n",
    "        for item2 in range(N):\n",
    "            temp.append(1)\n",
    "        item_list.append(temp)\n",
    "\n",
    "    value = 1\n",
    "    a = 0\n",
    "    b = 0\n",
    "    c = N - 1\n",
    "    d = N - 1\n",
    "\n",
    "    if (N % 2 == 0):\n",
    "        avg = N / 2\n",
    "\n",
    "    else:\n",
    "        avg = (N + 1) / 2\n",
    "\n",
    "\n",
    "    while (value <= avg):\n",
    "        i = b\n",
    "        while (i <= d):\n",
    "            item_list[a][i] = value\n",
    "            item_list[c][i] = value\n",
    "            i+=1\n",
    "\n",
    "        i = (a + 1)\n",
    "        while ( i < c):\n",
    "            item_list[i][b] = value\n",
    "            item_list[i][d] = value\n",
    "            i+=1\n",
    "\n",
    "        value += 1\n",
    "        a += 1\n",
    "        b += 1\n",
    "        c -= 1\n",
    "        d -= 1\n",
    "\n",
    "    for row in range(N):\n",
    "        result = ''\n",
    "        for col in range(N):\n",
    "            result += \" %3i\" %item_list[row][col]\n",
    "        print(result[1:])\n",
    "    print(\"\")\n"
   ]
  },
  {
   "cell_type": "code",
   "execution_count": 35,
   "metadata": {},
   "outputs": [],
   "source": [
    "# Probelm no: 1478"
   ]
  },
  {
   "cell_type": "code",
   "execution_count": 19,
   "metadata": {},
   "outputs": [
    {
     "name": "stdout",
     "output_type": "stream",
     "text": [
      "1\n",
      "  1\n",
      "\n",
      "2\n",
      "  1   2\n",
      "  2   1\n",
      "\n",
      "3\n",
      "  1   2   3\n",
      "  2   1   2\n",
      "  3   2   1\n",
      "\n",
      "4\n",
      "  1   2   3   4\n",
      "  2   1   2   3\n",
      "  3   2   1   2\n",
      "  4   3   2   1\n",
      "\n",
      "5\n",
      "  1   2   3   4   5\n",
      "  2   1   2   3   4\n",
      "  3   2   1   2   3\n",
      "  4   3   2   1   2\n",
      "  5   4   3   2   1\n",
      "\n",
      "0\n"
     ]
    }
   ],
   "source": [
    "while True:\n",
    "    N = int(input())\n",
    "\n",
    "    if (N == 0):\n",
    "        break\n",
    "\n",
    "    item_list =  []\n",
    " \n",
    "    for item in range(1,(N+1)):\n",
    "        temp = []\n",
    "        count = item\n",
    "        for item2 in range(N):\n",
    "            temp.append(abs(count))\n",
    "            if(count == 1):\n",
    "                count -= 3\n",
    "            else:\n",
    "                count -= 1\n",
    "        item_list.append(temp)\n",
    "\n",
    "    for row in range(N):\n",
    "        result = ''\n",
    "        for col in range(N):\n",
    "            result += ' %3i' %item_list[row][col]\n",
    "        print(result[1:])\n",
    "    print('')\n"
   ]
  },
  {
   "cell_type": "code",
   "execution_count": 20,
   "metadata": {},
   "outputs": [],
   "source": [
    "# Probelm no: 1534"
   ]
  },
  {
   "cell_type": "code",
   "execution_count": null,
   "metadata": {},
   "outputs": [
    {
     "name": "stdout",
     "output_type": "stream",
     "text": [
      "4\n",
      "1332\n",
      "3123\n",
      "3213\n",
      "2331\n",
      "7\n",
      "1333332\n",
      "3133323\n",
      "3313233\n",
      "3332333\n",
      "3323133\n",
      "3233313\n",
      "2333331\n",
      "9090909090909090000000000000000000000000\n"
     ]
    }
   ],
   "source": [
    "while True:\n",
    "    try:\n",
    "        N = int(input())\n",
    "\n",
    "        item_list = []\n",
    "\n",
    "        print_two = N - 1\n",
    "        for item in range(N):\n",
    "            temp = []\n",
    "            for item2 in range(N):\n",
    "                if(item2 == print_two):\n",
    "                    temp.append(2)\n",
    "                    print_two -= 1\n",
    "                else:\n",
    "                    if(item == item2):\n",
    "                        temp.append(1)\n",
    "                    else:\n",
    "                        temp.append(3)\n",
    "            item_list.append(temp)\n",
    "\n",
    "        for row in range(N):\n",
    "            result = ''\n",
    "            for col in range(N):\n",
    "                result += str(item_list[row][col])\n",
    "            print(result)\n",
    "    except EOFError:\n",
    "        break"
   ]
  },
  {
   "cell_type": "code",
   "execution_count": 1,
   "metadata": {},
   "outputs": [],
   "source": [
    "# Probelm no: 1541"
   ]
  },
  {
   "cell_type": "code",
   "execution_count": 31,
   "metadata": {},
   "outputs": [
    {
     "name": "stdout",
     "output_type": "stream",
     "text": [
      "8 10 20\n",
      "20\n",
      "1 10 100\n",
      "3\n",
      "10 3 100\n",
      "5\n",
      "0\n"
     ]
    }
   ],
   "source": [
    "while True:\n",
    "    X = input().split()\n",
    "    \n",
    "    if(X == ['0']):\n",
    "        break\n",
    "    \n",
    "    A, B, C = X\n",
    "    \n",
    "    A, B, C = int(A), int(B), int(C)\n",
    "    \n",
    "    mul = A * B\n",
    "    result = (mul * 100) / C\n",
    "    result = pow(result, 0.5)\n",
    "    print(int(result))"
   ]
  },
  {
   "cell_type": "code",
   "execution_count": 1,
   "metadata": {},
   "outputs": [],
   "source": [
    "# Probelm no: 1557"
   ]
  },
  {
   "cell_type": "code",
   "execution_count": 33,
   "metadata": {},
   "outputs": [
    {
     "name": "stdout",
     "output_type": "stream",
     "text": [
      "1\n",
      "1\n",
      "\n",
      "2\n",
      "1 2\n",
      "2 4\n",
      "\n",
      "3\n",
      " 1  2  4\n",
      " 2  4  8\n",
      " 4  8 16\n",
      "\n",
      "4\n",
      " 1  2  4  8\n",
      " 2  4  8 16\n",
      " 4  8 16 32\n",
      " 8 16 32 64\n",
      "\n",
      "5\n",
      "  1   2   4   8  16\n",
      "  2   4   8  16  32\n",
      "  4   8  16  32  64\n",
      "  8  16  32  64 128\n",
      " 16  32  64 128 256\n",
      "\n",
      "0\n"
     ]
    }
   ],
   "source": [
    "while True:\n",
    "    N = int(input())\n",
    "    \n",
    "    if(N == 0):\n",
    "        break\n",
    "    \n",
    "    matrix = list()\n",
    "    \n",
    "    for item in range(N):\n",
    "        matrix.append([])\n",
    "        for item2 in range(N):\n",
    "            matrix[item].append(0)\n",
    "            \n",
    "    matrix[0][0] = 1\n",
    "    \n",
    "    for item in range(N):\n",
    "        if (item >= 1):\n",
    "            matrix[item][0] = matrix[item - 1][0] * 2\n",
    "            \n",
    "        for item2 in range(1, N):\n",
    "            matrix[item][item2] = matrix[item][item2 -1] * 2\n",
    "            \n",
    "    T = len(str(matrix[N-1][N-1]))\n",
    "    for item in range(N):\n",
    "        for item2 in range(N):\n",
    "            matrix[item][item2] = str(matrix[item][item2])\n",
    "            while(len(matrix[item][item2]) < T):\n",
    "                matrix[item][item2] = ' ' + matrix[item][item2]\n",
    "        Square_Matrix = ' '.join(matrix[item])\n",
    "        \n",
    "        print(Square_Matrix)\n",
    "    print()\n",
    "    "
   ]
  },
  {
   "cell_type": "code",
   "execution_count": 2,
   "metadata": {},
   "outputs": [],
   "source": [
    "# Probelm no: 1564"
   ]
  },
  {
   "cell_type": "code",
   "execution_count": 33,
   "metadata": {},
   "outputs": [
    {
     "name": "stdout",
     "output_type": "stream",
     "text": [
      "0\n",
      "vai ter copa!\n",
      "1\n",
      "vai ter duas!\n",
      "0\n",
      "vai ter copa!\n",
      "2\n",
      "vai ter duas!\n",
      "100\n",
      "vai ter duas!\n",
      "0\n",
      "vai ter copa!\n",
      "b\n"
     ]
    },
    {
     "ename": "ValueError",
     "evalue": "invalid literal for int() with base 10: 'b'",
     "output_type": "error",
     "traceback": [
      "\u001b[1;31m---------------------------------------------------------------------------\u001b[0m",
      "\u001b[1;31mValueError\u001b[0m                                Traceback (most recent call last)",
      "\u001b[1;32m<ipython-input-33-545688b84a6a>\u001b[0m in \u001b[0;36m<module>\u001b[1;34m\u001b[0m\n\u001b[0;32m      1\u001b[0m \u001b[1;32mwhile\u001b[0m \u001b[1;32mTrue\u001b[0m\u001b[1;33m:\u001b[0m\u001b[1;33m\u001b[0m\u001b[1;33m\u001b[0m\u001b[0m\n\u001b[0;32m      2\u001b[0m     \u001b[1;32mtry\u001b[0m\u001b[1;33m:\u001b[0m\u001b[1;33m\u001b[0m\u001b[1;33m\u001b[0m\u001b[0m\n\u001b[1;32m----> 3\u001b[1;33m         \u001b[0mN\u001b[0m \u001b[1;33m=\u001b[0m \u001b[0mint\u001b[0m\u001b[1;33m(\u001b[0m\u001b[0minput\u001b[0m\u001b[1;33m(\u001b[0m\u001b[1;33m)\u001b[0m\u001b[1;33m)\u001b[0m\u001b[1;33m\u001b[0m\u001b[1;33m\u001b[0m\u001b[0m\n\u001b[0m\u001b[0;32m      4\u001b[0m \u001b[1;33m\u001b[0m\u001b[0m\n\u001b[0;32m      5\u001b[0m         \u001b[1;32mif\u001b[0m\u001b[1;33m(\u001b[0m\u001b[0mN\u001b[0m \u001b[1;33m==\u001b[0m \u001b[1;36m0\u001b[0m\u001b[1;33m)\u001b[0m\u001b[1;33m:\u001b[0m\u001b[1;33m\u001b[0m\u001b[1;33m\u001b[0m\u001b[0m\n",
      "\u001b[1;31mValueError\u001b[0m: invalid literal for int() with base 10: 'b'"
     ]
    }
   ],
   "source": [
    "while True:\n",
    "    try:\n",
    "        N = int(input())\n",
    "        \n",
    "        if(N == 0):\n",
    "            print('vai ter copa!')\n",
    "        else:\n",
    "            print('vai ter duas!')\n",
    "            \n",
    "    except EOFError:\n",
    "                  break"
   ]
  },
  {
   "cell_type": "code",
   "execution_count": 14,
   "metadata": {},
   "outputs": [],
   "source": [
    "# Probelm no: 1589"
   ]
  },
  {
   "cell_type": "code",
   "execution_count": 16,
   "metadata": {},
   "outputs": [
    {
     "name": "stdout",
     "output_type": "stream",
     "text": [
      "3\n",
      "1 1\n",
      "2\n",
      "2 8\n",
      "10\n",
      "8 2\n",
      "10\n"
     ]
    }
   ],
   "source": [
    "T = int(input())\n",
    "\n",
    "for item in range(T):\n",
    "    R1, R2 = list(map(int, input().split()))\n",
    "    R1 += R2\n",
    "    print(R1)"
   ]
  },
  {
   "cell_type": "code",
   "execution_count": 17,
   "metadata": {},
   "outputs": [],
   "source": [
    "# Probelm no: 1759"
   ]
  },
  {
   "cell_type": "code",
   "execution_count": 30,
   "metadata": {},
   "outputs": [
    {
     "name": "stdout",
     "output_type": "stream",
     "text": [
      "5\n",
      "Ho Ho Ho Ho Ho!\n"
     ]
    }
   ],
   "source": [
    "N = int(input())\n",
    "\n",
    "for item in range(N-1):\n",
    "    print('Ho', end=' ')\n",
    "print('Ho!')"
   ]
  },
  {
   "cell_type": "code",
   "execution_count": 31,
   "metadata": {},
   "outputs": [],
   "source": [
    "# Probelm no: 1789"
   ]
  },
  {
   "cell_type": "code",
   "execution_count": 2,
   "metadata": {},
   "outputs": [
    {
     "name": "stdout",
     "output_type": "stream",
     "text": [
      "10\n",
      "10 10 10 10 15 18 20 15 11 10\n",
      "3\n",
      "10\n",
      "1 5 2 9 5 5 8 4 4 3\n",
      "1\n",
      "10\n",
      "19 9 1 4 5 8 6 11 9 7\n",
      "2\n",
      ".\n"
     ]
    }
   ],
   "source": [
    "while True:\n",
    "    try:\n",
    "        L = int(input())\n",
    "        V = list(map(int, input().split())) \n",
    "        \n",
    "        index = 0\n",
    "        \n",
    "        for item in range(L):\n",
    "            if(V[item] > index):\n",
    "                index = V[item]\n",
    "        if(index < 10):\n",
    "            Num = 1\n",
    "        elif(index >= 10 and index < 20):\n",
    "            Num = 2\n",
    "        else:\n",
    "            Num = 3\n",
    "        print(Num)\n",
    "    \n",
    "    except EOFError:\n",
    "        break"
   ]
  },
  {
   "cell_type": "code",
   "execution_count": 15,
   "metadata": {},
   "outputs": [
    {
     "name": "stdout",
     "output_type": "stream",
     "text": [
      "10\n",
      "10 10 10 10 15 18 20 15 11 10\n",
      "3\n",
      "10\n",
      "1 5 2 9 5 5 8 4 4 3\n",
      "1\n",
      "10\n",
      "19 9 1 4 5 8 6 11 9 7\n",
      "2\n",
      "'\n"
     ]
    }
   ],
   "source": [
    "#Alternative Solution\n",
    "while True:    \n",
    "    try:\n",
    "        L = int(input())\n",
    "        V = list(map(int, input().split()))\n",
    "        \n",
    "        if (max(V) < 10):\n",
    "            Num = 1\n",
    "        elif (max(V) >= 10 and max(V) < 20):\n",
    "            Num = 2\n",
    "        elif (max(V) >= 20):\n",
    "            Num = 3\n",
    "\n",
    "        print(Num)\n",
    "    except EOFError:\n",
    "        break"
   ]
  },
  {
   "cell_type": "code",
   "execution_count": 3,
   "metadata": {},
   "outputs": [],
   "source": [
    "# Probelm no: 1827"
   ]
  },
  {
   "cell_type": "code",
   "execution_count": null,
   "metadata": {},
   "outputs": [],
   "source": []
  },
  {
   "cell_type": "code",
   "execution_count": 4,
   "metadata": {},
   "outputs": [],
   "source": [
    "# Probelm no: 1828"
   ]
  },
  {
   "cell_type": "code",
   "execution_count": null,
   "metadata": {},
   "outputs": [],
   "source": []
  },
  {
   "cell_type": "code",
   "execution_count": 5,
   "metadata": {},
   "outputs": [],
   "source": [
    "# Probelm no: 1837"
   ]
  },
  {
   "cell_type": "code",
   "execution_count": null,
   "metadata": {},
   "outputs": [],
   "source": [
    "a, b = list(map(int, input().split()))\n",
    "\n",
    "if (a > 0 and b > 0):\n",
    "    q = int(a / b)\n",
    "    r = int(a % b)\n",
    "\n",
    "elif(a > 0 and b < 0):\n",
    "    q = int(a / b)\n",
    "    r = int(a / (b * q))\n",
    "\n",
    "else:\n",
    "    b -= 1\n",
    "    q = int(a / b)\n",
    "    r = int(a % b) + 1\n",
    "    \n",
    "print(q, end=' ')\n",
    "print(r)"
   ]
  },
  {
   "cell_type": "code",
   "execution_count": 1,
   "metadata": {},
   "outputs": [],
   "source": [
    "# Probelm no: 1847"
   ]
  },
  {
   "cell_type": "code",
   "execution_count": 6,
   "metadata": {},
   "outputs": [
    {
     "name": "stdout",
     "output_type": "stream",
     "text": [
      "10 10 14\n",
      ":)\n"
     ]
    }
   ],
   "source": [
    "a, b, c = list(map(int, input().split()))\n",
    "\n",
    "\n",
    "if((a > b) and (b < c)):\n",
    "    print(':)')\n",
    "\n",
    "if((a < b) and (b >= c)):\n",
    "    print(':(')\n",
    "    \n",
    "if((a < b) and (b < c) and (c-b) < (b-a)):\n",
    "    print(':(')\n",
    "    \n",
    "if((a < b) and (b < c) and (c-b) > (b-a)):\n",
    "    print(':)')\n",
    "    \n",
    "if((a > b) and (b > c) and (b-c) < (a-b)):\n",
    "    print(':)')\n",
    "    \n",
    "if((a > b) and (b > c) and (b-c) > (a-b)):\n",
    "    print(':(')\n",
    "\n",
    "if(a == b):\n",
    "    if(b < c):\n",
    "        print(':)')\n",
    "    else:\n",
    "        print(':(')"
   ]
  },
  {
   "cell_type": "code",
   "execution_count": 7,
   "metadata": {},
   "outputs": [],
   "source": [
    "# Probelm no: 1848"
   ]
  },
  {
   "cell_type": "code",
   "execution_count": null,
   "metadata": {},
   "outputs": [],
   "source": []
  },
  {
   "cell_type": "code",
   "execution_count": 8,
   "metadata": {},
   "outputs": [],
   "source": [
    "# Probelm no: 1858"
   ]
  },
  {
   "cell_type": "code",
   "execution_count": 10,
   "metadata": {},
   "outputs": [
    {
     "name": "stdout",
     "output_type": "stream",
     "text": [
      "3\n",
      "8 0 7\n"
     ]
    }
   ],
   "source": [
    "N = int(input())\n",
    "\n",
    "T = list(map(int, input().split()))"
   ]
  },
  {
   "cell_type": "code",
   "execution_count": null,
   "metadata": {},
   "outputs": [],
   "source": []
  }
 ],
 "metadata": {
  "kernelspec": {
   "display_name": "Python 3",
   "language": "python",
   "name": "python3"
  },
  "language_info": {
   "codemirror_mode": {
    "name": "ipython",
    "version": 3
   },
   "file_extension": ".py",
   "mimetype": "text/x-python",
   "name": "python",
   "nbconvert_exporter": "python",
   "pygments_lexer": "ipython3",
   "version": "3.7.6"
  }
 },
 "nbformat": 4,
 "nbformat_minor": 4
}
